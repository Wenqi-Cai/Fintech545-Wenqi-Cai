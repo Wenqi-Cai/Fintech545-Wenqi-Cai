{
  "nbformat": 4,
  "nbformat_minor": 0,
  "metadata": {
    "colab": {
      "provenance": []
    },
    "kernelspec": {
      "name": "python3",
      "display_name": "Python 3"
    },
    "language_info": {
      "name": "python"
    }
  },
  "cells": [
    {
      "cell_type": "code",
      "source": [
        "from scipy.stats import norm, t\n",
        "import scipy\n",
        "import numpy as np\n",
        "import pandas as pd\n",
        "import os\n",
        "from datetime import datetime\n",
        "from functools import partial\n",
        "from math import log, sqrt, exp, isclose\n",
        "from scipy.optimize import fsolve\n",
        "import matplotlib.pyplot as plt\n",
        "import seaborn as sns\n",
        "import statsmodels.api as sm\n",
        "import warnings"
      ],
      "metadata": {
        "id": "ChStnaK8vOS-"
      },
      "execution_count": 2,
      "outputs": []
    },
    {
      "cell_type": "markdown",
      "source": [
        "# problem 1"
      ],
      "metadata": {
        "id": "HJFdNKU1vFqn"
      }
    },
    {
      "cell_type": "markdown",
      "source": [
        "the closed form greeks for GBSM"
      ],
      "metadata": {
        "id": "RX_MNqunUWit"
      }
    },
    {
      "cell_type": "code",
      "execution_count": 3,
      "metadata": {
        "id": "RE1WAGBSoxiK"
      },
      "outputs": [],
      "source": [
        "def calculate_d1(S, X, T, implied_vol, b):\n",
        "  return (np.log(S / X) + (b + implied_vol ** 2 / 2) * T) / (implied_vol * np.sqrt(T))\n",
        "\n",
        "def calculate_d2(d1, T, implied_vol):\n",
        "  return d1 - implied_vol * np.sqrt(T)"
      ]
    },
    {
      "cell_type": "code",
      "source": [
        "def gbsm_delta(option_type, S, X, T, implied_vol, r, b):\n",
        "  is_call = 1 if option_type == \"Call\" else -1\n",
        "  d1 = calculate_d1(S, X, T, implied_vol, b)\n",
        "  delta = norm.cdf(d1 * is_call, 0, 1) * is_call\n",
        "  return delta\n",
        "\n",
        "def gbsm_gamma(option_type, S, X, T, implied_vol, r, b):\n",
        "  d1 = calculate_d1(S, X, T, implied_vol, b)\n",
        "  d2 = calculate_d2(d1, T, implied_vol)\n",
        "  gamma = norm.pdf(d1, 0, 1) / (S * implied_vol * np.sqrt(T))\n",
        "  return gamma\n",
        "\n",
        "def gbsm_vega(option_type, S, X, T, implied_vol, r, b):\n",
        "  d1 = calculate_d1(S, X, T, implied_vol, b)\n",
        "  d2 = calculate_d2(d1, T, implied_vol)\n",
        "  vega = S * norm.pdf(d1, 0, 1) * np.sqrt(T)\n",
        "  return vega\n",
        "\n",
        "def gbsm_theta(option_type, S, X, T, implied_vol, r, b):\n",
        "  is_call = 1 if option_type == \"Call\" else -1\n",
        "  d1 = calculate_d1(S, X, T, implied_vol, b)\n",
        "  d2 = calculate_d2(d1, T, implied_vol)\n",
        "  theta = -S * np.exp((b - r) * T) * norm.pdf(d1, 0, 1) * implied_vol / (2 * np.sqrt(T)) \\\n",
        "          -(b - r) * S * np.exp((b - r) * T) * norm.cdf(d1 * is_call, 0, 1) * is_call \\\n",
        "          -r * X * np.exp(-r * T) * norm.cdf(d2 * is_call, 0, 1) * is_call\n",
        "  return theta\n",
        "\n",
        "def gbsm_rho(option_type, S, X, T, implied_vol, r, b):\n",
        "  is_call = 1 if option_type == \"Call\" else -1\n",
        "  d1 = calculate_d1(S, X, T, implied_vol, b)\n",
        "  d2 = calculate_d2(d1, T, implied_vol)\n",
        "  rho = X * T * np.exp(-r * T) * norm.cdf(d2 * is_call, 0, 1) * is_call\n",
        "  return rho\n",
        "\n",
        "def gbsm_carry_rho(option_type, S, X, T, implied_vol, r, b):\n",
        "  is_call = 1 if option_type == \"Call\" else -1\n",
        "  d1 = calculate_d1(S, X, T, implied_vol, b)\n",
        "  d2 = calculate_d2(d1, T, implied_vol)\n",
        "  carry_rho = S * T * np.exp((b - r) * T) * norm.cdf(d1 * is_call, 0, 1) * is_call\n",
        "  return carry_rho"
      ],
      "metadata": {
        "id": "ITXmcIibvspv"
      },
      "execution_count": 4,
      "outputs": []
    },
    {
      "cell_type": "markdown",
      "source": [
        "a finite difference derivative calculation"
      ],
      "metadata": {
        "id": "29qzDoPqUZ6m"
      }
    },
    {
      "cell_type": "code",
      "source": [
        "import inspect\n",
        "\n",
        "# calculate first order derivative\n",
        "def first_order_der(func, x, delta):\n",
        "  return (func(x + delta) - func(x - delta)) / (2 * delta)\n",
        "\n",
        "# calculate second order derivative\n",
        "def second_order_der(func, x, delta):\n",
        "  return (func(x + delta) + func(x - delta) - 2 * func(x)) / delta ** 2\n",
        "\n",
        "def cal_partial_derivative(func, order, arg_name, delta=1e-3):\n",
        "  # initialize for argument names and order\n",
        "  arg_names = list(inspect.signature(func).parameters.keys())\n",
        "  derivative_fs = {1: first_order_der, 2: second_order_der}\n",
        "\n",
        "  def partial_derivative(*args, **kwargs):\n",
        "    # parse argument names and order\n",
        "    args_dict = dict(list(zip(arg_names, args)) + list(kwargs.items()))\n",
        "    arg_val = args_dict.pop(arg_name)\n",
        "\n",
        "    def partial_f(x):\n",
        "      p_kwargs = {arg_name:x, **args_dict}\n",
        "      return func(**p_kwargs)\n",
        "    return derivative_fs[order](partial_f, arg_val, delta)\n",
        "  return partial_derivative"
      ],
      "metadata": {
        "id": "qbOsFdruUeEX"
      },
      "execution_count": 5,
      "outputs": []
    },
    {
      "cell_type": "code",
      "source": [
        "def gbsm(option_type, S, X, T, implied_vol, r, b):\n",
        "  d1 = (np.log(S / X) + (b + 0.5 * implied_vol ** 2) * T) / (implied_vol * np.sqrt(T))\n",
        "  d2 = d1 - implied_vol * np.sqrt(T)\n",
        "  is_call = 1 if option_type == \"Call\" else -1\n",
        "\n",
        "  res = is_call * (S * np.e ** ((b - r) * T) * \\\n",
        "                   scipy.stats.norm(0, 1).cdf(is_call * d1) \\\n",
        "                   - X * np.e ** (-r * T) * \\\n",
        "                   scipy.stats.norm(0, 1).cdf(is_call * d2))\n",
        "\n",
        "  return res"
      ],
      "metadata": {
        "id": "14yYQt-bUquf"
      },
      "execution_count": 6,
      "outputs": []
    },
    {
      "cell_type": "markdown",
      "source": [
        "given information"
      ],
      "metadata": {
        "id": "6vTBlrebV5AT"
      }
    },
    {
      "cell_type": "code",
      "source": [
        "current_date = datetime(2022, 3, 13)\n",
        "expire_date = datetime(2022, 4, 15)\n",
        "T = (expire_date - current_date).days / 365\n",
        "\n",
        "S = 151.03\n",
        "X = 165\n",
        "implied_vol = 0.2\n",
        "\n",
        "r = 0.0425\n",
        "coupon = 0.0053\n",
        "b = r - coupon"
      ],
      "metadata": {
        "id": "LHgywf72V5bi"
      },
      "execution_count": 7,
      "outputs": []
    },
    {
      "cell_type": "markdown",
      "source": [
        "result"
      ],
      "metadata": {
        "id": "ZdWNBqw1Uu4P"
      }
    },
    {
      "cell_type": "code",
      "source": [
        "# delta\n",
        "delta_call = gbsm_delta(\"Call\", S, X, T, implied_vol, r, b)\n",
        "delta_put = gbsm_delta(\"Put\", S, X, T, implied_vol, r, b)\n",
        "gbsm_delta_num = cal_partial_derivative(gbsm, 1, 'S')\n",
        "delta_call_num = gbsm_delta_num(\"Call\", S, X, T, implied_vol, r, b)\n",
        "delta_put_num = gbsm_delta_num(\"Put\", S, X, T, implied_vol, r, b)\n",
        "print(\"delta: (call, put)\")\n",
        "print(f\"GBSM:{delta_call}, {delta_put}\")\n",
        "print(f\"FDD:{delta_call_num}, {delta_put_num}\")\n",
        "\n",
        "# gamma\n",
        "gamma_call = gbsm_gamma(\"Call\", S, X, T, implied_vol, r, b)\n",
        "gamma_put = gbsm_gamma(\"Put\", S, X, T, implied_vol, r, b)\n",
        "gbsm_gamma_num = cal_partial_derivative(gbsm, 2, 'S')\n",
        "gamma_call_num = gbsm_gamma_num(\"Call\", S, X, T, implied_vol, r, b)\n",
        "gamma_put_num = gbsm_gamma_num(\"Put\", S, X, T, implied_vol, r, b)\n",
        "print(\"gamma: (call, put)\")\n",
        "print(f\"GBSM:{gamma_call}, {gamma_put}\")\n",
        "print(f\"FDD:{gamma_call_num}, {gamma_put_num}\")\n",
        "\n",
        "# vega\n",
        "vega_call = gbsm_vega(\"Call\", S, X, T, implied_vol, r, b)\n",
        "vega_put = gbsm_vega(\"Put\", S, X, T, implied_vol, r, b)\n",
        "gbsm_vega_num = cal_partial_derivative(gbsm, 1, 'implied_vol')\n",
        "vega_call_num = gbsm_vega_num(\"Call\", S, X, T, implied_vol, r, b)\n",
        "vega_put_num = gbsm_vega_num(\"Put\", S, X, T, implied_vol, r, b)\n",
        "print(\"vega: (call, put)\")\n",
        "print(f\"GBSM:{vega_call}, {vega_put}\")\n",
        "print(f\"FDD:{vega_call_num}, {vega_put_num}\")\n",
        "\n",
        "# theta\n",
        "theta_call = gbsm_theta(\"Call\", S, X, T, implied_vol, r, b)\n",
        "theta_put = gbsm_theta(\"Put\", S, X, T, implied_vol, r, b)\n",
        "gbsm_theta_num = cal_partial_derivative(gbsm, 1, 'T')\n",
        "theta_call_num = -gbsm_theta_num(\"Call\", S, X, T, implied_vol, r, b)\n",
        "theta_put_num = -gbsm_theta_num(\"Put\", S, X, T, implied_vol, r, b)\n",
        "print(\"theta: (call, put)\")\n",
        "print(f\"GBSM:{theta_call}, {theta_put}\")\n",
        "print(f\"FDD:{theta_call_num}, {theta_put_num}\")\n",
        "\n",
        "# rho\n",
        "rho_call = gbsm_rho(\"Call\", S, X, T, implied_vol, r, b)\n",
        "rho_put = gbsm_rho(\"Put\", S, X, T, implied_vol, r, b)\n",
        "gbsm_rho_num = cal_partial_derivative(gbsm, 1, 'r')\n",
        "rho_call_num = gbsm_rho_num(\"Call\", S, X, T, implied_vol, r, b)\n",
        "rho_put_num = gbsm_rho_num(\"Put\", S, X, T, implied_vol, r, b)\n",
        "print(\"rho: (call, put)\")\n",
        "print(f\"GBSM:{rho_call}, {rho_put}\")\n",
        "print(f\"FDD:{rho_call_num}, {rho_put_num}\")\n",
        "\n",
        "# carry rho\n",
        "carry_rho_call = gbsm_carry_rho(\"Call\", S, X, T, implied_vol, r, b)\n",
        "carry_rho_put = gbsm_carry_rho(\"Put\", S, X, T, implied_vol, r, b)\n",
        "gbsm_carry_rho_num = cal_partial_derivative(gbsm, 1, 'b')\n",
        "carry_rho_call_num = gbsm_carry_rho_num(\"Call\", S, X, T, implied_vol, r, b)\n",
        "carry_rho_put_num = gbsm_carry_rho_num(\"Put\", S, X, T, implied_vol, r, b)\n",
        "print(\"carry rho: (call, put)\")\n",
        "print(f\"GBSM:{carry_rho_call}, {carry_rho_put}\")\n",
        "print(f\"FDD:{carry_rho_call_num}, {carry_rho_put_num}\")"
      ],
      "metadata": {
        "id": "pX6RFyNLUwsA",
        "colab": {
          "base_uri": "https://localhost:8080/"
        },
        "outputId": "4905d7e4-ea4d-4b9c-fc7b-838bfaa71d8a"
      },
      "execution_count": 16,
      "outputs": [
        {
          "output_type": "stream",
          "name": "stdout",
          "text": [
            "delta: (call, put)\n",
            "GBSM:0.08301107089626869, -0.9169889291037313\n",
            "FDD:0.08297130374668171, -0.9165496329472944\n",
            "gamma: (call, put)\n",
            "GBSM:0.016830979206204362, 0.016830979206204362\n",
            "FDD:0.016822911064195978, 0.016822951920403284\n",
            "vega: (call, put)\n",
            "GBSM:6.942036604441163, 6.942036604441163\n",
            "FDD:6.938653056250743, 6.93865305626673\n",
            "theta: (call, put)\n",
            "GBSM:-8.126522359668838, -1.9409914783019566\n",
            "FDD:-8.126308803761084, -1.9407779203106656\n",
            "rho: (call, put)\n",
            "GBSM:1.1025939156368187, -13.758003122735788\n",
            "FDD:-0.030359909416688424, -1.2427313238703164\n",
            "carry rho: (call, put)\n",
            "GBSM:1.132953825011723, -12.515271800549371\n",
            "FDD:1.1329550097096686, -12.515270634423814\n"
          ]
        }
      ]
    },
    {
      "cell_type": "markdown",
      "source": [
        "Calculate the binomial tree valuation for American options"
      ],
      "metadata": {
        "id": "9vwe0CI2VQhr"
      }
    },
    {
      "cell_type": "code",
      "source": [
        "def n_nodes(N):\n",
        "    return (N + 2) * (N + 1) // 2\n",
        "\n",
        "def node_index(i, j):\n",
        "    return n_nodes(j - 1) + i\n",
        "\n",
        "def binomial_tree_no_div(option_type, S0, X, T, implied_vol, r, N):\n",
        "  is_call = 1 if option_type == \"Call\" else -1\n",
        "  dt = T / N\n",
        "  disc = np.exp(-r * dt)\n",
        "  u = np.exp(implied_vol * np.sqrt(dt))\n",
        "  d = 1 / u\n",
        "  p = (np.exp(r * dt) - d) / (u - d)\n",
        "\n",
        "  C = np.empty(n_nodes(N), dtype=float)\n",
        "\n",
        "  for i in np.arange(N, -1, -1):\n",
        "    for j in range(i, -1, -1):\n",
        "      S = S0 * u ** j * d ** (i - j)\n",
        "      index = node_index(j, i)\n",
        "      C[index] = max(0, (S - X) * is_call)\n",
        "      if i < N:\n",
        "        val = disc * (p * C[node_index(j + 1, i + 1)] + (1 - p) * C[node_index(j, i + 1)])\n",
        "        C[index] = max(C[index], val)\n",
        "\n",
        "  return C[0]\n",
        "\n",
        "def binomial_tree(option_type, S0, X, T, div_time, div, implied_vol, r, N):\n",
        "  if div_time is None or div is None:\n",
        "    return binomial_tree_no_div(option_type, S0, X, T, implied_vol, r, N)\n",
        "\n",
        "  is_call = 1 if option_type == \"Call\" else -1\n",
        "  dt = T / N\n",
        "  disc = np.exp(-r * dt)\n",
        "\n",
        "  #calculate u, d, and p\n",
        "  u = np.exp(implied_vol * np.sqrt(dt))\n",
        "  d = 1 / u\n",
        "  p = (np.exp(r * dt) - d) / (u - d)\n",
        "\n",
        "  new_T = T - div_time * dt\n",
        "  new_N = N - div_time\n",
        "\n",
        "  C = np.empty(n_nodes(div_time), dtype=float)\n",
        "  for i in range(div_time, -1, -1):\n",
        "    for j in range(i, -1, -1):\n",
        "      S = S0 * u ** j * d ** (i - j)\n",
        "      val_exe = max(0, (S - X) * is_call)\n",
        "      if i < div_time:\n",
        "        val = disc * (p * C[node_index(j + 1, i + 1)] + (1 - p) * C[node_index(j, i + 1)])\n",
        "      else:\n",
        "        val = binomial_tree(option_type, S - div, X, new_T, None, None, implied_vol, r, new_N)\n",
        "      C[node_index(j, i)] = max(val_exe, val)\n",
        "\n",
        "  return C[0]"
      ],
      "metadata": {
        "id": "z8X5aSwEj1KS"
      },
      "execution_count": 18,
      "outputs": []
    },
    {
      "cell_type": "code",
      "source": [
        "# Assume N is 300\n",
        "N = 300\n",
        "value_no_div_call = binomial_tree_no_div(\"Call\", S, X, T, implied_vol, r, N)\n",
        "value_no_div_put = binomial_tree_no_div(\"Put\", S, X, T, implied_vol, r, N)\n",
        "print(\"Binomial tree value without dividend for call: \" + str(value_no_div_call))\n",
        "print(\"Binomial tree value without dividend for put: \" + str(value_no_div_put))"
      ],
      "metadata": {
        "id": "lpe6cEINVRez",
        "colab": {
          "base_uri": "https://localhost:8080/"
        },
        "outputId": "6787362f-8bc0-4b57-8573-8bec8ea62243"
      },
      "execution_count": 19,
      "outputs": [
        {
          "output_type": "stream",
          "name": "stdout",
          "text": [
            "Binomial tree value without dividend for call: 0.341603945513609\n",
            "Binomial tree value without dividend for put: 14.020014650639181\n"
          ]
        }
      ]
    },
    {
      "cell_type": "code",
      "source": [
        "div_date = datetime(2022, 4, 11)\n",
        "div = 0.88\n",
        "div_time = int((div_date - current_date).days / (expire_date - current_date).days * N)\n",
        "\n",
        "value_call = binomial_tree(\"Call\", S, X, T, div_time, div, implied_vol, r, N)\n",
        "value_put = binomial_tree(\"Put\", S, X, T, div_time, div, implied_vol, r, N)\n",
        "print(\"Binomial tree value with dividend for call: \" + str(value_call))\n",
        "print(\"Binomial tree value with dividend for put: \" + str(value_put))"
      ],
      "metadata": {
        "id": "v2v-dozqVdzX",
        "colab": {
          "base_uri": "https://localhost:8080/"
        },
        "outputId": "678245e5-20b6-4640-fda6-5b0929ec963c"
      },
      "execution_count": 20,
      "outputs": [
        {
          "output_type": "stream",
          "name": "stdout",
          "text": [
            "Binomial tree value with dividend for call: 0.30041508863955924\n",
            "Binomial tree value with dividend for put: 14.560397204371986\n"
          ]
        }
      ]
    },
    {
      "cell_type": "markdown",
      "source": [
        "Greeks of American options"
      ],
      "metadata": {
        "id": "n_kVbdL2Vi-Q"
      }
    },
    {
      "cell_type": "code",
      "source": [
        "# delta\n",
        "cal_amr_delta_num = cal_partial_derivative(binomial_tree, 1, 'S0')\n",
        "delta_call_amr = cal_amr_delta_num(\"Call\", S, X, T, div_time, div, implied_vol, r, N)\n",
        "delta_put_amr = cal_amr_delta_num(\"Put\", S, X, T, div_time, div, implied_vol, r, N)\n",
        "print(\"delta: (call, put)\")\n",
        "print(delta_call_amr, delta_put_amr)\n",
        "\n",
        "# gamma\n",
        "cal_amr_gamma_num = cal_partial_derivative(binomial_tree, 2, 'S0', delta=1)\n",
        "gamma_call_amr = cal_amr_gamma_num(\"Call\", S, X, T, div_time, div, implied_vol, r, N)\n",
        "gamma_put_amr = cal_amr_gamma_num(\"Put\", S, X, T, div_time, div, implied_vol, r, N)\n",
        "print(\"gamma: (call, put)\")\n",
        "print(gamma_call_amr, gamma_put_amr)\n",
        "\n",
        "# vega\n",
        "cal_amr_vega_num = cal_partial_derivative(binomial_tree, 1, 'implied_vol')\n",
        "vega_call_amr = cal_amr_vega_num(\"Call\", S, X, T, div_time, div, implied_vol, r, N)\n",
        "vega_put_amr = cal_amr_vega_num(\"Put\", S, X, T, div_time, div, implied_vol, r, N)\n",
        "print(\"vega: (call, put)\")\n",
        "print(vega_call_amr, vega_put_amr)\n",
        "\n",
        "# theta\n",
        "cal_amr_theta_num = cal_partial_derivative(binomial_tree, 1, 'T')\n",
        "theta_call_amr = -cal_amr_theta_num(\"Call\", S, X, T, div_time, div, implied_vol, r, N)\n",
        "theta_put_amr = -cal_amr_theta_num(\"Put\", S, X, T, div_time, div, implied_vol, r, N)\n",
        "print(\"theta: (call, put)\")\n",
        "print(theta_call_amr, theta_put_amr)\n",
        "\n",
        "# rho\n",
        "cal_amr_rho_num = cal_partial_derivative(binomial_tree, 1, 'r')\n",
        "rho_call_amr = cal_amr_rho_num(\"Call\", S, X, T, div_time, div, implied_vol, r, N)\n",
        "rho_put_amr = cal_amr_rho_num(\"Put\", S, X, T, div_time, div, implied_vol, r, N)\n",
        "print(\"rho: (call, put)\")\n",
        "print(rho_call_amr, rho_put_amr)"
      ],
      "metadata": {
        "id": "RCCZOWFJVj1R",
        "colab": {
          "base_uri": "https://localhost:8080/"
        },
        "outputId": "0f1c8426-dafa-4b75-9673-07fa15ec71bd"
      },
      "execution_count": 22,
      "outputs": [
        {
          "output_type": "stream",
          "name": "stdout",
          "text": [
            "delta: (call, put)\n",
            "0.07564529288392463 -0.9304253539674789\n",
            "gamma: (call, put)\n",
            "0.01624307464913788 0.014779533669457834\n",
            "vega: (call, put)\n",
            "6.42956107974818 6.0562654358991\n",
            "theta: (call, put)\n",
            "-7.5594852571106985 -0.8555281205477883\n",
            "rho: (call, put)\n",
            "0.9528888093222332 -12.430363528616262\n"
          ]
        }
      ]
    },
    {
      "cell_type": "markdown",
      "source": [
        "Calculate the sensitivity of the put and call to a change in the dividend amount"
      ],
      "metadata": {
        "id": "Bw1ANGSFmtdl"
      }
    },
    {
      "cell_type": "code",
      "source": [
        "delta = 1e-3\n",
        "call_value1 = binomial_tree(\"Call\", S, X, T, div_time, div + delta, implied_vol, r, N)\n",
        "call_value2 = binomial_tree(\"Call\", S, X, T, div_time, div - delta, implied_vol, r, N)\n",
        "call_sens_to_div_amount = (call_value1 - call_value2) / (2*delta)\n",
        "\n",
        "put_value1 = binomial_tree(\"Put\", S, X, T, div_time, div + delta, implied_vol, r, N)\n",
        "put_value2 = binomial_tree(\"Put\", S, X, T, div_time, div - delta, implied_vol, r, N)\n",
        "put_sens_to_div_amount = (put_value1 - put_value2) / (2*delta)\n",
        "print(f\"Sensitivity to dividend amount: Call: {call_sens_to_div_amount:.3f}, Put: {put_sens_to_div_amount:.3f}\")"
      ],
      "metadata": {
        "id": "8VVvnXa3mvM_",
        "colab": {
          "base_uri": "https://localhost:8080/"
        },
        "outputId": "6a204927-baea-46d3-98f0-78a9860f97d2"
      },
      "execution_count": 23,
      "outputs": [
        {
          "output_type": "stream",
          "name": "stdout",
          "text": [
            "Sensitivity to dividend amount: Call: -0.034, Put: 0.934\n"
          ]
        }
      ]
    },
    {
      "cell_type": "markdown",
      "source": [
        "# problem 2"
      ],
      "metadata": {
        "id": "3CZAPbyDn9bj"
      }
    },
    {
      "cell_type": "code",
      "source": [
        "def implied_vol_american(option_type, S0, X, T, div_time, div, r, N, market_price, x0=0.5):\n",
        "  def equation(implied_vol):\n",
        "    return binomial_tree(option_type, S0, X, T, div_time, div, implied_vol, r, N) - market_price\n",
        "  # Back solve the binomial tree valuation to get the implied volatility\n",
        "  return scipy.optimize.fsolve(equation, x0=x0, xtol=0.00001)[0]\n",
        "\n",
        "def calculate_sim_values(portfolios, sim_prices, days_ahead=0):\n",
        "  sim_values = pd.DataFrame(index=portfolios.index,\n",
        "                            columns=list(range(sim_prices.shape[0])))\n",
        "  sim_prices = np.array(sim_prices)\n",
        "  for i in portfolios.index:\n",
        "    if portfolios[\"Type\"][i] == \"Stock\":\n",
        "      # For stock, the single value is its price\n",
        "      single_values = sim_prices\n",
        "    else:\n",
        "      # For option, calculate values with gbsm method\n",
        "      option_type = portfolios[\"OptionType\"][i]\n",
        "      X = portfolios[\"Strike\"][i]\n",
        "      T = ((portfolios[\"ExpirationDate\"][i] - current_date).days - days_ahead) / 365\n",
        "      implied_vol = portfolios[\"ImpliedVol\"][i]\n",
        "      div_time = int((div_date - current_date).days / (portfolios[\"ExpirationDate\"][i] - current_date).days * N)\n",
        "      div = 1\n",
        "      option_values = []\n",
        "      for S in sim_prices:\n",
        "        option_values.append(binomial_tree(option_type, S, X, T, div_time, div, implied_vol, r, N))\n",
        "      single_values = np.array(option_values)\n",
        "\n",
        "    # Calculate the total values based on holding\n",
        "    sim_values.loc[i, :] = portfolios[\"Holding\"][i] * single_values\n",
        "\n",
        "  # Combine the values for same portfolios\n",
        "  sim_values['Portfolio'] = portfolios['Portfolio']\n",
        "  return sim_values.groupby('Portfolio').sum()"
      ],
      "metadata": {
        "id": "dJAZPB8dn_9j"
      },
      "execution_count": 24,
      "outputs": []
    },
    {
      "cell_type": "markdown",
      "source": [
        "Fit a Normal distribution and calculate Mean, VaR and ES."
      ],
      "metadata": {
        "id": "yG4xl0ugEUJK"
      }
    },
    {
      "cell_type": "code",
      "source": [
        "portfolios = pd.read_csv('problem2.csv', parse_dates=['ExpirationDate'])\n",
        "portfolios['CurrentValue'] = portfolios['CurrentPrice'] * portfolios['Holding']\n",
        "\n",
        "S = 165\n",
        "N = 25\n",
        "current_date = datetime(2023, 3, 3)\n",
        "div_date = datetime(2023, 3, 15)\n",
        "r = 0.0425\n",
        "div = 1\n",
        "\n",
        "# Calculate the implied volatility for all portfolios\n",
        "implied_vols = []\n",
        "for i in range(len(portfolios.index)):\n",
        "  if portfolios[\"Type\"][i] == \"Stock\":\n",
        "    implied_vols.append(None)\n",
        "  else:\n",
        "    option_type = portfolios[\"OptionType\"][i]\n",
        "    X = portfolios[\"Strike\"][i]\n",
        "    T = (portfolios[\"ExpirationDate\"][i] - current_date).days / 365\n",
        "    div_time = int((div_date - current_date).days / (portfolios[\"ExpirationDate\"][i] - current_date).days * N)\n",
        "    market_price = portfolios[\"CurrentPrice\"][i]\n",
        "    implied_vol = implied_vol_american(option_type, S, X, T, div_time, div, r, N, market_price)\n",
        "    implied_vols.append(implied_vol)\n",
        "\n",
        "# Store the implied volatility in portfolios\n",
        "portfolios[\"ImpliedVol\"] = implied_vols"
      ],
      "metadata": {
        "colab": {
          "base_uri": "https://localhost:8080/"
        },
        "id": "n2qd3SuyDp23",
        "outputId": "da19f253-b197-428f-f98e-cb4534f33e1e"
      },
      "execution_count": 30,
      "outputs": [
        {
          "output_type": "stream",
          "name": "stderr",
          "text": [
            "<ipython-input-18-b31624876635>:21: DeprecationWarning: Conversion of an array with ndim > 0 to a scalar is deprecated, and will error in future. Ensure you extract a single element from your array before performing this operation. (Deprecated NumPy 1.25.)\n",
            "  C[index] = max(0, (S - X) * is_call)\n",
            "<ipython-input-18-b31624876635>:24: DeprecationWarning: Conversion of an array with ndim > 0 to a scalar is deprecated, and will error in future. Ensure you extract a single element from your array before performing this operation. (Deprecated NumPy 1.25.)\n",
            "  C[index] = max(C[index], val)\n",
            "<ipython-input-18-b31624876635>:53: DeprecationWarning: Conversion of an array with ndim > 0 to a scalar is deprecated, and will error in future. Ensure you extract a single element from your array before performing this operation. (Deprecated NumPy 1.25.)\n",
            "  C[node_index(j, i)] = max(val_exe, val)\n",
            "<ipython-input-24-7e60cce3edde>:5: RuntimeWarning: The iteration is not making good progress, as measured by the \n",
            "  improvement from the last ten iterations.\n",
            "  return scipy.optimize.fsolve(equation, x0=x0, xtol=0.00001)[0]\n"
          ]
        }
      ]
    },
    {
      "cell_type": "code",
      "source": [
        "def return_calculate(prices: pd.DataFrame, method: str = \"DISCRETE\", dateColumn: str = \"Date\"):\n",
        "\n",
        "    vars = list(prices.columns)\n",
        "    nVars = len(vars)\n",
        "    vars.remove(dateColumn)\n",
        "    if nVars == len(vars):\n",
        "        raise ValueError(\"dateColumn: \" + dateColumn + \" not in DataFrame: \" + str(vars))\n",
        "    nVars = nVars-1\n",
        "\n",
        "    p = np.array(prices[vars])\n",
        "    n = p.shape[0]\n",
        "    m = p.shape[1]\n",
        "    p2 = np.empty((n-1,m))\n",
        "\n",
        "    for i in range(n-1):\n",
        "        for j in range(m):\n",
        "            p2[i,j] = p[i+1,j] / p[i,j]\n",
        "\n",
        "    if method.upper() == \"DISCRETE\":\n",
        "        p2 = p2 - 1.0\n",
        "    elif method.upper() == \"LOG\":\n",
        "        p2 = np.log(p2)\n",
        "    else:\n",
        "        raise ValueError(\"method: \" + method + \" must be in (\\\"LOG\\\",\\\"DISCRETE\\\")\")\n",
        "\n",
        "    dates = prices[dateColumn][1:n]\n",
        "    out = pd.DataFrame({dateColumn: dates})\n",
        "    for i in range(nVars):\n",
        "        out[vars[i]] = p2[:,i]\n",
        "    return out"
      ],
      "metadata": {
        "id": "AoJDxvtBJCiH"
      },
      "execution_count": 31,
      "outputs": []
    },
    {
      "cell_type": "code",
      "source": [
        "all_prices = pd.read_csv(\"DailyPrices.csv\")\n",
        "all_returns = return_calculate(all_prices, method= \"LOG\", dateColumn=\"Date\")"
      ],
      "metadata": {
        "colab": {
          "base_uri": "https://localhost:8080/"
        },
        "id": "NWyCRbgpEVZ0",
        "outputId": "b3059ad7-5ff9-407a-9a24-2aca39fb8c55"
      },
      "execution_count": 32,
      "outputs": [
        {
          "output_type": "stream",
          "name": "stderr",
          "text": [
            "<ipython-input-31-6951b6cad39e>:29: PerformanceWarning: DataFrame is highly fragmented.  This is usually the result of calling `frame.insert` many times, which has poor performance.  Consider joining all columns at once using pd.concat(axis=1) instead. To get a de-fragmented frame, use `newframe = frame.copy()`\n",
            "  out[vars[i]] = p2[:,i]\n"
          ]
        }
      ]
    },
    {
      "cell_type": "code",
      "source": [
        "# Simulate the prices based on returns with normal distribution\n",
        "std = all_returns['AAPL'].std()\n",
        "np.random.seed(0)\n",
        "sim_returns = scipy.stats.norm(0, std).rvs((10, 100))\n",
        "sim_prices = 151.03 * (1 + sim_returns).prod(axis=0)\n",
        "\n",
        "# Calculate the current values and sim values\n",
        "portfolios[\"CurrentValue\"] = portfolios[\"CurrentPrice\"] * portfolios[\"Holding\"]\n",
        "curr_values = portfolios.groupby('Portfolio')['CurrentValue'].sum()\n",
        "sim_values = calculate_sim_values(portfolios, sim_prices, 10)\n",
        "\n",
        "# Calculate the value difference\n",
        "sim_value_changes = (sim_values.T - curr_values).T"
      ],
      "metadata": {
        "id": "kSbdsZmxHKes"
      },
      "execution_count": 33,
      "outputs": []
    },
    {
      "cell_type": "code",
      "source": [
        "def cal_VaR_ES_hist(returns, alpha=0.05):\n",
        "    returns = sorted(returns)\n",
        "    n = alpha * len(returns)\n",
        "    iup = int(np.ceil(n))\n",
        "    idn = int(np.floor(n))\n",
        "    VaR = (returns[iup] + returns[idn]) / 2\n",
        "\n",
        "    ES = np.mean(returns[0:idn])\n",
        "\n",
        "    return -VaR, -ES, returns"
      ],
      "metadata": {
        "id": "67GR6ccDJGxw"
      },
      "execution_count": 34,
      "outputs": []
    },
    {
      "cell_type": "code",
      "source": [
        "# Calculate the Mean, VaR and ES, and print the results\n",
        "resulting_mat = pd.DataFrame(0, index=sim_values.index.values, columns=[\"Mean\", \"VaR($)\", \"ES($)\"])\n",
        "for i in range(len(resulting_mat)):\n",
        "    resulting_mat.iloc[i,0] = sim_values.iloc[i,:].mean()\n",
        "    resulting_mat.iloc[i,1] = cal_VaR_ES_hist(sim_value_changes.iloc[i,:],alpha=0.05)[0]\n",
        "    resulting_mat.iloc[i,2] = cal_VaR_ES_hist(sim_value_changes.iloc[i,:],alpha=0.05)[1]"
      ],
      "metadata": {
        "colab": {
          "base_uri": "https://localhost:8080/"
        },
        "id": "3uqNU-WFHPcc",
        "outputId": "d8affda2-8680-4d57-e24d-c0993044e681"
      },
      "execution_count": 35,
      "outputs": [
        {
          "output_type": "stream",
          "name": "stderr",
          "text": [
            "<ipython-input-35-2e3cacb6b691>:4: FutureWarning: Setting an item of incompatible dtype is deprecated and will raise an error in a future version of pandas. Value '3.09736091931446' has dtype incompatible with int64, please explicitly cast to a compatible dtype first.\n",
            "  resulting_mat.iloc[i,0] = sim_values.iloc[i,:].mean()\n",
            "<ipython-input-35-2e3cacb6b691>:5: FutureWarning: Setting an item of incompatible dtype is deprecated and will raise an error in a future version of pandas. Value '6.7990173992004115' has dtype incompatible with int64, please explicitly cast to a compatible dtype first.\n",
            "  resulting_mat.iloc[i,1] = cal_VaR_ES_hist(sim_value_changes.iloc[i,:],alpha=0.05)[0]\n",
            "<ipython-input-35-2e3cacb6b691>:6: FutureWarning: Setting an item of incompatible dtype is deprecated and will raise an error in a future version of pandas. Value '6.799952956514669' has dtype incompatible with int64, please explicitly cast to a compatible dtype first.\n",
            "  resulting_mat.iloc[i,2] = cal_VaR_ES_hist(sim_value_changes.iloc[i,:],alpha=0.05)[1]\n"
          ]
        }
      ]
    },
    {
      "cell_type": "code",
      "source": [
        "resulting_mat"
      ],
      "metadata": {
        "colab": {
          "base_uri": "https://localhost:8080/",
          "height": 331
        },
        "id": "i_4uFKA9M2Wk",
        "outputId": "51b6087e-9f30-4958-9e0f-337c49ca3918"
      },
      "execution_count": 36,
      "outputs": [
        {
          "output_type": "execute_result",
          "data": {
            "text/plain": [
              "                    Mean     VaR($)      ES($)\n",
              "Call            3.097361   6.799017   6.799953\n",
              "CallSpread      2.659462   4.589017   4.589953\n",
              "CoveredCall   149.117511   7.260838  10.602005\n",
              "ProtectedPut  156.756094   3.003057   4.272518\n",
              "Put             9.631896  -0.268636   0.799042\n",
              "PutSpread       5.011379  -0.219114   0.373946\n",
              "Stock         150.074736  11.310838  14.652005\n",
              "Straddle       12.729257   0.973351   0.984207\n",
              "SynLong        -6.534535  17.095658  19.424308"
            ],
            "text/html": [
              "\n",
              "  <div id=\"df-4da6a6c0-e00c-41da-b406-cfe8b7ad4c32\" class=\"colab-df-container\">\n",
              "    <div>\n",
              "<style scoped>\n",
              "    .dataframe tbody tr th:only-of-type {\n",
              "        vertical-align: middle;\n",
              "    }\n",
              "\n",
              "    .dataframe tbody tr th {\n",
              "        vertical-align: top;\n",
              "    }\n",
              "\n",
              "    .dataframe thead th {\n",
              "        text-align: right;\n",
              "    }\n",
              "</style>\n",
              "<table border=\"1\" class=\"dataframe\">\n",
              "  <thead>\n",
              "    <tr style=\"text-align: right;\">\n",
              "      <th></th>\n",
              "      <th>Mean</th>\n",
              "      <th>VaR($)</th>\n",
              "      <th>ES($)</th>\n",
              "    </tr>\n",
              "  </thead>\n",
              "  <tbody>\n",
              "    <tr>\n",
              "      <th>Call</th>\n",
              "      <td>3.097361</td>\n",
              "      <td>6.799017</td>\n",
              "      <td>6.799953</td>\n",
              "    </tr>\n",
              "    <tr>\n",
              "      <th>CallSpread</th>\n",
              "      <td>2.659462</td>\n",
              "      <td>4.589017</td>\n",
              "      <td>4.589953</td>\n",
              "    </tr>\n",
              "    <tr>\n",
              "      <th>CoveredCall</th>\n",
              "      <td>149.117511</td>\n",
              "      <td>7.260838</td>\n",
              "      <td>10.602005</td>\n",
              "    </tr>\n",
              "    <tr>\n",
              "      <th>ProtectedPut</th>\n",
              "      <td>156.756094</td>\n",
              "      <td>3.003057</td>\n",
              "      <td>4.272518</td>\n",
              "    </tr>\n",
              "    <tr>\n",
              "      <th>Put</th>\n",
              "      <td>9.631896</td>\n",
              "      <td>-0.268636</td>\n",
              "      <td>0.799042</td>\n",
              "    </tr>\n",
              "    <tr>\n",
              "      <th>PutSpread</th>\n",
              "      <td>5.011379</td>\n",
              "      <td>-0.219114</td>\n",
              "      <td>0.373946</td>\n",
              "    </tr>\n",
              "    <tr>\n",
              "      <th>Stock</th>\n",
              "      <td>150.074736</td>\n",
              "      <td>11.310838</td>\n",
              "      <td>14.652005</td>\n",
              "    </tr>\n",
              "    <tr>\n",
              "      <th>Straddle</th>\n",
              "      <td>12.729257</td>\n",
              "      <td>0.973351</td>\n",
              "      <td>0.984207</td>\n",
              "    </tr>\n",
              "    <tr>\n",
              "      <th>SynLong</th>\n",
              "      <td>-6.534535</td>\n",
              "      <td>17.095658</td>\n",
              "      <td>19.424308</td>\n",
              "    </tr>\n",
              "  </tbody>\n",
              "</table>\n",
              "</div>\n",
              "    <div class=\"colab-df-buttons\">\n",
              "\n",
              "  <div class=\"colab-df-container\">\n",
              "    <button class=\"colab-df-convert\" onclick=\"convertToInteractive('df-4da6a6c0-e00c-41da-b406-cfe8b7ad4c32')\"\n",
              "            title=\"Convert this dataframe to an interactive table.\"\n",
              "            style=\"display:none;\">\n",
              "\n",
              "  <svg xmlns=\"http://www.w3.org/2000/svg\" height=\"24px\" viewBox=\"0 -960 960 960\">\n",
              "    <path d=\"M120-120v-720h720v720H120Zm60-500h600v-160H180v160Zm220 220h160v-160H400v160Zm0 220h160v-160H400v160ZM180-400h160v-160H180v160Zm440 0h160v-160H620v160ZM180-180h160v-160H180v160Zm440 0h160v-160H620v160Z\"/>\n",
              "  </svg>\n",
              "    </button>\n",
              "\n",
              "  <style>\n",
              "    .colab-df-container {\n",
              "      display:flex;\n",
              "      gap: 12px;\n",
              "    }\n",
              "\n",
              "    .colab-df-convert {\n",
              "      background-color: #E8F0FE;\n",
              "      border: none;\n",
              "      border-radius: 50%;\n",
              "      cursor: pointer;\n",
              "      display: none;\n",
              "      fill: #1967D2;\n",
              "      height: 32px;\n",
              "      padding: 0 0 0 0;\n",
              "      width: 32px;\n",
              "    }\n",
              "\n",
              "    .colab-df-convert:hover {\n",
              "      background-color: #E2EBFA;\n",
              "      box-shadow: 0px 1px 2px rgba(60, 64, 67, 0.3), 0px 1px 3px 1px rgba(60, 64, 67, 0.15);\n",
              "      fill: #174EA6;\n",
              "    }\n",
              "\n",
              "    .colab-df-buttons div {\n",
              "      margin-bottom: 4px;\n",
              "    }\n",
              "\n",
              "    [theme=dark] .colab-df-convert {\n",
              "      background-color: #3B4455;\n",
              "      fill: #D2E3FC;\n",
              "    }\n",
              "\n",
              "    [theme=dark] .colab-df-convert:hover {\n",
              "      background-color: #434B5C;\n",
              "      box-shadow: 0px 1px 3px 1px rgba(0, 0, 0, 0.15);\n",
              "      filter: drop-shadow(0px 1px 2px rgba(0, 0, 0, 0.3));\n",
              "      fill: #FFFFFF;\n",
              "    }\n",
              "  </style>\n",
              "\n",
              "    <script>\n",
              "      const buttonEl =\n",
              "        document.querySelector('#df-4da6a6c0-e00c-41da-b406-cfe8b7ad4c32 button.colab-df-convert');\n",
              "      buttonEl.style.display =\n",
              "        google.colab.kernel.accessAllowed ? 'block' : 'none';\n",
              "\n",
              "      async function convertToInteractive(key) {\n",
              "        const element = document.querySelector('#df-4da6a6c0-e00c-41da-b406-cfe8b7ad4c32');\n",
              "        const dataTable =\n",
              "          await google.colab.kernel.invokeFunction('convertToInteractive',\n",
              "                                                    [key], {});\n",
              "        if (!dataTable) return;\n",
              "\n",
              "        const docLinkHtml = 'Like what you see? Visit the ' +\n",
              "          '<a target=\"_blank\" href=https://colab.research.google.com/notebooks/data_table.ipynb>data table notebook</a>'\n",
              "          + ' to learn more about interactive tables.';\n",
              "        element.innerHTML = '';\n",
              "        dataTable['output_type'] = 'display_data';\n",
              "        await google.colab.output.renderOutput(dataTable, element);\n",
              "        const docLink = document.createElement('div');\n",
              "        docLink.innerHTML = docLinkHtml;\n",
              "        element.appendChild(docLink);\n",
              "      }\n",
              "    </script>\n",
              "  </div>\n",
              "\n",
              "\n",
              "<div id=\"df-2318da9b-35c0-4e66-98cc-747aea57e6f9\">\n",
              "  <button class=\"colab-df-quickchart\" onclick=\"quickchart('df-2318da9b-35c0-4e66-98cc-747aea57e6f9')\"\n",
              "            title=\"Suggest charts\"\n",
              "            style=\"display:none;\">\n",
              "\n",
              "<svg xmlns=\"http://www.w3.org/2000/svg\" height=\"24px\"viewBox=\"0 0 24 24\"\n",
              "     width=\"24px\">\n",
              "    <g>\n",
              "        <path d=\"M19 3H5c-1.1 0-2 .9-2 2v14c0 1.1.9 2 2 2h14c1.1 0 2-.9 2-2V5c0-1.1-.9-2-2-2zM9 17H7v-7h2v7zm4 0h-2V7h2v10zm4 0h-2v-4h2v4z\"/>\n",
              "    </g>\n",
              "</svg>\n",
              "  </button>\n",
              "\n",
              "<style>\n",
              "  .colab-df-quickchart {\n",
              "      --bg-color: #E8F0FE;\n",
              "      --fill-color: #1967D2;\n",
              "      --hover-bg-color: #E2EBFA;\n",
              "      --hover-fill-color: #174EA6;\n",
              "      --disabled-fill-color: #AAA;\n",
              "      --disabled-bg-color: #DDD;\n",
              "  }\n",
              "\n",
              "  [theme=dark] .colab-df-quickchart {\n",
              "      --bg-color: #3B4455;\n",
              "      --fill-color: #D2E3FC;\n",
              "      --hover-bg-color: #434B5C;\n",
              "      --hover-fill-color: #FFFFFF;\n",
              "      --disabled-bg-color: #3B4455;\n",
              "      --disabled-fill-color: #666;\n",
              "  }\n",
              "\n",
              "  .colab-df-quickchart {\n",
              "    background-color: var(--bg-color);\n",
              "    border: none;\n",
              "    border-radius: 50%;\n",
              "    cursor: pointer;\n",
              "    display: none;\n",
              "    fill: var(--fill-color);\n",
              "    height: 32px;\n",
              "    padding: 0;\n",
              "    width: 32px;\n",
              "  }\n",
              "\n",
              "  .colab-df-quickchart:hover {\n",
              "    background-color: var(--hover-bg-color);\n",
              "    box-shadow: 0 1px 2px rgba(60, 64, 67, 0.3), 0 1px 3px 1px rgba(60, 64, 67, 0.15);\n",
              "    fill: var(--button-hover-fill-color);\n",
              "  }\n",
              "\n",
              "  .colab-df-quickchart-complete:disabled,\n",
              "  .colab-df-quickchart-complete:disabled:hover {\n",
              "    background-color: var(--disabled-bg-color);\n",
              "    fill: var(--disabled-fill-color);\n",
              "    box-shadow: none;\n",
              "  }\n",
              "\n",
              "  .colab-df-spinner {\n",
              "    border: 2px solid var(--fill-color);\n",
              "    border-color: transparent;\n",
              "    border-bottom-color: var(--fill-color);\n",
              "    animation:\n",
              "      spin 1s steps(1) infinite;\n",
              "  }\n",
              "\n",
              "  @keyframes spin {\n",
              "    0% {\n",
              "      border-color: transparent;\n",
              "      border-bottom-color: var(--fill-color);\n",
              "      border-left-color: var(--fill-color);\n",
              "    }\n",
              "    20% {\n",
              "      border-color: transparent;\n",
              "      border-left-color: var(--fill-color);\n",
              "      border-top-color: var(--fill-color);\n",
              "    }\n",
              "    30% {\n",
              "      border-color: transparent;\n",
              "      border-left-color: var(--fill-color);\n",
              "      border-top-color: var(--fill-color);\n",
              "      border-right-color: var(--fill-color);\n",
              "    }\n",
              "    40% {\n",
              "      border-color: transparent;\n",
              "      border-right-color: var(--fill-color);\n",
              "      border-top-color: var(--fill-color);\n",
              "    }\n",
              "    60% {\n",
              "      border-color: transparent;\n",
              "      border-right-color: var(--fill-color);\n",
              "    }\n",
              "    80% {\n",
              "      border-color: transparent;\n",
              "      border-right-color: var(--fill-color);\n",
              "      border-bottom-color: var(--fill-color);\n",
              "    }\n",
              "    90% {\n",
              "      border-color: transparent;\n",
              "      border-bottom-color: var(--fill-color);\n",
              "    }\n",
              "  }\n",
              "</style>\n",
              "\n",
              "  <script>\n",
              "    async function quickchart(key) {\n",
              "      const quickchartButtonEl =\n",
              "        document.querySelector('#' + key + ' button');\n",
              "      quickchartButtonEl.disabled = true;  // To prevent multiple clicks.\n",
              "      quickchartButtonEl.classList.add('colab-df-spinner');\n",
              "      try {\n",
              "        const charts = await google.colab.kernel.invokeFunction(\n",
              "            'suggestCharts', [key], {});\n",
              "      } catch (error) {\n",
              "        console.error('Error during call to suggestCharts:', error);\n",
              "      }\n",
              "      quickchartButtonEl.classList.remove('colab-df-spinner');\n",
              "      quickchartButtonEl.classList.add('colab-df-quickchart-complete');\n",
              "    }\n",
              "    (() => {\n",
              "      let quickchartButtonEl =\n",
              "        document.querySelector('#df-2318da9b-35c0-4e66-98cc-747aea57e6f9 button');\n",
              "      quickchartButtonEl.style.display =\n",
              "        google.colab.kernel.accessAllowed ? 'block' : 'none';\n",
              "    })();\n",
              "  </script>\n",
              "</div>\n",
              "\n",
              "  <div id=\"id_470dcabc-9cde-4f49-91c8-2144c114bb96\">\n",
              "    <style>\n",
              "      .colab-df-generate {\n",
              "        background-color: #E8F0FE;\n",
              "        border: none;\n",
              "        border-radius: 50%;\n",
              "        cursor: pointer;\n",
              "        display: none;\n",
              "        fill: #1967D2;\n",
              "        height: 32px;\n",
              "        padding: 0 0 0 0;\n",
              "        width: 32px;\n",
              "      }\n",
              "\n",
              "      .colab-df-generate:hover {\n",
              "        background-color: #E2EBFA;\n",
              "        box-shadow: 0px 1px 2px rgba(60, 64, 67, 0.3), 0px 1px 3px 1px rgba(60, 64, 67, 0.15);\n",
              "        fill: #174EA6;\n",
              "      }\n",
              "\n",
              "      [theme=dark] .colab-df-generate {\n",
              "        background-color: #3B4455;\n",
              "        fill: #D2E3FC;\n",
              "      }\n",
              "\n",
              "      [theme=dark] .colab-df-generate:hover {\n",
              "        background-color: #434B5C;\n",
              "        box-shadow: 0px 1px 3px 1px rgba(0, 0, 0, 0.15);\n",
              "        filter: drop-shadow(0px 1px 2px rgba(0, 0, 0, 0.3));\n",
              "        fill: #FFFFFF;\n",
              "      }\n",
              "    </style>\n",
              "    <button class=\"colab-df-generate\" onclick=\"generateWithVariable('resulting_mat')\"\n",
              "            title=\"Generate code using this dataframe.\"\n",
              "            style=\"display:none;\">\n",
              "\n",
              "  <svg xmlns=\"http://www.w3.org/2000/svg\" height=\"24px\"viewBox=\"0 0 24 24\"\n",
              "       width=\"24px\">\n",
              "    <path d=\"M7,19H8.4L18.45,9,17,7.55,7,17.6ZM5,21V16.75L18.45,3.32a2,2,0,0,1,2.83,0l1.4,1.43a1.91,1.91,0,0,1,.58,1.4,1.91,1.91,0,0,1-.58,1.4L9.25,21ZM18.45,9,17,7.55Zm-12,3A5.31,5.31,0,0,0,4.9,8.1,5.31,5.31,0,0,0,1,6.5,5.31,5.31,0,0,0,4.9,4.9,5.31,5.31,0,0,0,6.5,1,5.31,5.31,0,0,0,8.1,4.9,5.31,5.31,0,0,0,12,6.5,5.46,5.46,0,0,0,6.5,12Z\"/>\n",
              "  </svg>\n",
              "    </button>\n",
              "    <script>\n",
              "      (() => {\n",
              "      const buttonEl =\n",
              "        document.querySelector('#id_470dcabc-9cde-4f49-91c8-2144c114bb96 button.colab-df-generate');\n",
              "      buttonEl.style.display =\n",
              "        google.colab.kernel.accessAllowed ? 'block' : 'none';\n",
              "\n",
              "      buttonEl.onclick = () => {\n",
              "        google.colab.notebook.generateWithVariable('resulting_mat');\n",
              "      }\n",
              "      })();\n",
              "    </script>\n",
              "  </div>\n",
              "\n",
              "    </div>\n",
              "  </div>\n"
            ],
            "application/vnd.google.colaboratory.intrinsic+json": {
              "type": "dataframe",
              "variable_name": "resulting_mat",
              "summary": "{\n  \"name\": \"resulting_mat\",\n  \"rows\": 9,\n  \"fields\": [\n    {\n      \"column\": \"Mean\",\n      \"properties\": {\n        \"dtype\": \"number\",\n        \"std\": 73.99174799982764,\n        \"min\": -6.534535137710668,\n        \"max\": 156.7560942102928,\n        \"num_unique_values\": 9,\n        \"samples\": [\n          12.729256976339586,\n          2.6594622677136055,\n          5.011379171393542\n        ],\n        \"semantic_type\": \"\",\n        \"description\": \"\"\n      }\n    },\n    {\n      \"column\": \"VaR($)\",\n      \"properties\": {\n        \"dtype\": \"number\",\n        \"std\": 5.770968225670079,\n        \"min\": -0.2686363309728099,\n        \"max\": 17.095657953640742,\n        \"num_unique_values\": 9,\n        \"samples\": [\n          0.973350964171475,\n          4.5890173992004115,\n          -0.21911367712922747\n        ],\n        \"semantic_type\": \"\",\n        \"description\": \"\"\n      }\n    },\n    {\n      \"column\": \"ES($)\",\n      \"properties\": {\n        \"dtype\": \"number\",\n        \"std\": 6.686710648355874,\n        \"min\": 0.3739460270972866,\n        \"max\": 19.42430803466575,\n        \"num_unique_values\": 9,\n        \"samples\": [\n          0.9842067360800091,\n          4.589952956514668,\n          0.3739460270972866\n        ],\n        \"semantic_type\": \"\",\n        \"description\": \"\"\n      }\n    }\n  ]\n}"
            }
          },
          "metadata": {},
          "execution_count": 36
        }
      ]
    },
    {
      "cell_type": "markdown",
      "source": [
        "Calculate VaR and ES using Delta-Normal\n"
      ],
      "metadata": {
        "id": "J8nn06UaHk_X"
      }
    },
    {
      "cell_type": "code",
      "source": [
        "cal_amr_delta_num =  cal_partial_derivative(binomial_tree, 1, 'S0')"
      ],
      "metadata": {
        "id": "Yn8W4YWMHmog"
      },
      "execution_count": 37,
      "outputs": []
    },
    {
      "cell_type": "code",
      "source": [
        "# Calculate the implied volatility for all portfolios\n",
        "deltas = []\n",
        "for i in range(len(portfolios.index)):\n",
        "  if portfolios[\"Type\"][i] == \"Stock\":\n",
        "    deltas.append(1)\n",
        "  else:\n",
        "    option_type = portfolios[\"OptionType\"][i]\n",
        "    X = portfolios[\"Strike\"][i]\n",
        "    T = ((portfolios[\"ExpirationDate\"][i] - current_date).days - 10) / 365\n",
        "    div_time = int((div_date - current_date).days / (portfolios[\"ExpirationDate\"][i] - current_date).days * N)\n",
        "    delta = cal_amr_delta_num(option_type, S, X, T, div_time, div, implied_vol, r, N)\n",
        "    deltas.append(delta)"
      ],
      "metadata": {
        "id": "0OKdqZ_hHrR-"
      },
      "execution_count": 38,
      "outputs": []
    },
    {
      "cell_type": "code",
      "source": [
        "# Store the deltas in portfolios\n",
        "portfolios[\"deltas\"] = deltas\n",
        "\n",
        "alpha = 0.05\n",
        "t = 10\n",
        "result_dn = pd.DataFrame(index=sorted(portfolios['Portfolio'].unique()), columns=['Mean', 'VaR', 'ES'])\n",
        "result_dn.index.name = 'Portfolio'\n",
        "for pfl, df in portfolios.groupby('Portfolio'):\n",
        "  gradient = S / df['CurrentValue'].sum() * (df['Holding'] * df['deltas']).sum()\n",
        "  pfl_10d_std = abs(gradient) * std * np.sqrt(t)\n",
        "  N = scipy.stats.norm(0, 1)\n",
        "  present_value = df['CurrentValue'].sum()\n",
        "  result_dn.loc[pfl]['Mean'] = 0\n",
        "  result_dn.loc[pfl]['VaR'] = -present_value * N.ppf(alpha) * pfl_10d_std\n",
        "  result_dn.loc[pfl]['ES'] = present_value * pfl_10d_std * N.pdf(N.ppf(alpha)) / alpha\n",
        "\n",
        "print(result_dn)"
      ],
      "metadata": {
        "colab": {
          "base_uri": "https://localhost:8080/"
        },
        "id": "4wcRiQfeHv7e",
        "outputId": "bb6e00f0-a06d-4e67-c032-008398c766ad"
      },
      "execution_count": 49,
      "outputs": [
        {
          "output_type": "stream",
          "name": "stdout",
          "text": [
            "             Mean        VaR         ES\n",
            "Portfolio                              \n",
            "Call            0   9.922584  12.443321\n",
            "CallSpread      0    3.36575   4.220786\n",
            "CoveredCall     0   3.717425   4.661801\n",
            "ProtectedPut    0   9.887767  12.399659\n",
            "Put             0   2.265449   2.840964\n",
            "PutSpread       0   1.102982   1.383185\n",
            "Stock           0  12.108229  15.184207\n",
            "Straddle        0   7.657136   9.602357\n",
            "SynLong         0  12.188033  15.284285\n"
          ]
        },
        {
          "output_type": "stream",
          "name": "stderr",
          "text": [
            "<ipython-input-49-5c678d7e05d0>:13: FutureWarning: ChainedAssignmentError: behaviour will change in pandas 3.0!\n",
            "You are setting values through chained assignment. Currently this works in certain cases, but when using Copy-on-Write (which will become the default behaviour in pandas 3.0) this will never work to update the original DataFrame or Series, because the intermediate object on which we are setting values will behave as a copy.\n",
            "A typical example is when you are setting values in a column of a DataFrame, like:\n",
            "\n",
            "df[\"col\"][row_indexer] = value\n",
            "\n",
            "Use `df.loc[row_indexer, \"col\"] = values` instead, to perform the assignment in a single step and ensure this keeps updating the original `df`.\n",
            "\n",
            "See the caveats in the documentation: https://pandas.pydata.org/pandas-docs/stable/user_guide/indexing.html#returning-a-view-versus-a-copy\n",
            "\n",
            "  result_dn.loc[pfl]['Mean'] = 0\n",
            "<ipython-input-49-5c678d7e05d0>:14: FutureWarning: ChainedAssignmentError: behaviour will change in pandas 3.0!\n",
            "You are setting values through chained assignment. Currently this works in certain cases, but when using Copy-on-Write (which will become the default behaviour in pandas 3.0) this will never work to update the original DataFrame or Series, because the intermediate object on which we are setting values will behave as a copy.\n",
            "A typical example is when you are setting values in a column of a DataFrame, like:\n",
            "\n",
            "df[\"col\"][row_indexer] = value\n",
            "\n",
            "Use `df.loc[row_indexer, \"col\"] = values` instead, to perform the assignment in a single step and ensure this keeps updating the original `df`.\n",
            "\n",
            "See the caveats in the documentation: https://pandas.pydata.org/pandas-docs/stable/user_guide/indexing.html#returning-a-view-versus-a-copy\n",
            "\n",
            "  result_dn.loc[pfl]['VaR'] = -present_value * N.ppf(alpha) * pfl_10d_std\n",
            "<ipython-input-49-5c678d7e05d0>:15: FutureWarning: ChainedAssignmentError: behaviour will change in pandas 3.0!\n",
            "You are setting values through chained assignment. Currently this works in certain cases, but when using Copy-on-Write (which will become the default behaviour in pandas 3.0) this will never work to update the original DataFrame or Series, because the intermediate object on which we are setting values will behave as a copy.\n",
            "A typical example is when you are setting values in a column of a DataFrame, like:\n",
            "\n",
            "df[\"col\"][row_indexer] = value\n",
            "\n",
            "Use `df.loc[row_indexer, \"col\"] = values` instead, to perform the assignment in a single step and ensure this keeps updating the original `df`.\n",
            "\n",
            "See the caveats in the documentation: https://pandas.pydata.org/pandas-docs/stable/user_guide/indexing.html#returning-a-view-versus-a-copy\n",
            "\n",
            "  result_dn.loc[pfl]['ES'] = present_value * pfl_10d_std * N.pdf(N.ppf(alpha)) / alpha\n"
          ]
        }
      ]
    },
    {
      "cell_type": "markdown",
      "source": [
        "Rerun the code from last week using inputs in this week project"
      ],
      "metadata": {
        "id": "qj7QwJDHcFBD"
      }
    },
    {
      "cell_type": "code",
      "source": [
        "import pandas as pd\n",
        "import numpy as np\n",
        "from datetime import datetime, timedelta\n",
        "from scipy.optimize import root_scalar\n",
        "from statsmodels.tsa.arima.model import ARIMA\n",
        "\n",
        "# Inputs\n",
        "currentS = 165\n",
        "current_dt = datetime(2023, 3, 3)\n",
        "rf = 0.0425  # Risk-Free Rate\n",
        "dy = 0.0057  # Dividend Yield\n",
        "nSim = 10000\n",
        "fwdT = 10\n",
        "\n",
        "# Load Data\n",
        "returns = pd.read_csv(\"DailyPrices.csv\", parse_dates=[\"Date\"])\n",
        "returns[\"returns\"] = np.log(returns[\"AAPL\"]).diff().dropna() - np.mean(np.log(returns[\"AAPL\"]).diff().dropna())\n",
        "portfolio = pd.read_csv(\"problem2.csv\")\n",
        "\n",
        "# Convert ExpirationDate for Options to datetime\n",
        "portfolio[\"ExpirationDate\"] = [\n",
        "    pd.to_datetime(portfolio[\"ExpirationDate\"][i], format=\"%m/%d/%Y\")\n",
        "    if portfolio[\"Type\"][i] == \"Option\" else None\n",
        "    for i in range(len(portfolio))\n",
        "]\n",
        "\n",
        "# Define GBSM (Black-Scholes-Merton)\n",
        "def gbsm(is_call, S, K, T, r, q, sigma):\n",
        "    from scipy.stats import norm\n",
        "    d1 = (np.log(S / K) + (r - q + 0.5 * sigma**2) * T) / (sigma * np.sqrt(T))\n",
        "    d2 = d1 - sigma * np.sqrt(T)\n",
        "    if is_call:\n",
        "        return S * np.exp(-q * T) * norm.cdf(d1) - K * np.exp(-r * T) * norm.cdf(d2)\n",
        "    else:\n",
        "        return K * np.exp(-r * T) * norm.cdf(-d2) - S * np.exp(-q * T) * norm.cdf(-d1)\n",
        "\n",
        "# Calculate implied volatility\n",
        "def implied_vol(option_type, S, K, T, r, q, current_price):\n",
        "    def objective(vol):\n",
        "        return gbsm(option_type == \"Call\", S, K, T, r, q, vol) - current_price\n",
        "\n",
        "    try:\n",
        "        result = root_scalar(objective, bracket=[1e-5, 10], method='bisect') # Wider bracket\n",
        "        return result.root if result.converged else np.nan  # Return NaN if not converged\n",
        "    except ValueError:\n",
        "        print(f\"Warning: Could not find implied volatility for option with parameters: \"\n",
        "              f\"option_type={option_type}, S={S}, K={K}, T={T}, r={r}, q={q}, current_price={current_price}\")\n",
        "        return np.nan  # Return NaN in case of ValueError\n",
        "\n",
        "portfolio[\"ImpVol\"] = [\n",
        "    implied_vol(portfolio[\"OptionType\"][i], currentS, portfolio[\"Strike\"][i],\n",
        "                (portfolio[\"ExpirationDate\"][i] - current_dt).days / 365, 0.05, 0.02,\n",
        "                portfolio[\"CurrentPrice\"][i]) if portfolio[\"Type\"][i] == \"Option\" else None\n",
        "    for i in range(len(portfolio))\n",
        "]\n",
        "\n",
        "# Fit AR(1) model\n",
        "model = ARIMA(returns[\"returns\"], order=(1, 0, 0)).fit()\n",
        "mean = model.params[\"const\"]\n",
        "phi = model.params[\"ar.L1\"]\n",
        "sigma = np.sqrt(model.resid.var())\n",
        "\n",
        "def ar1_simulation(y, mean, phi, sigma, innovations, ahead=1):\n",
        "    l = len(y)\n",
        "    n = len(innovations) // ahead\n",
        "    out = np.zeros((ahead, n))\n",
        "    y_last = y.iloc[-1] - mean\n",
        "    for i in range(n):\n",
        "        yl = y_last\n",
        "        for j in range(ahead):\n",
        "            next_val = phi * yl + sigma * innovations[i * ahead + j]\n",
        "            yl = next_val\n",
        "            out[j, i] = next_val\n",
        "    return out + mean\n",
        "\n",
        "# Simulate AR(1) paths forward\n",
        "innovations = np.random.randn(fwdT * nSim)\n",
        "arSim = ar1_simulation(returns[\"returns\"], mean, phi, sigma, innovations, ahead=fwdT)\n",
        "\n",
        "# Calculate simulated returns and prices\n",
        "simReturns = np.sum(arSim, axis=0)\n",
        "simPrices = currentS * np.exp(simReturns)\n",
        "\n",
        "# Expand portfolio for simulations\n",
        "iteration = np.arange(1, nSim + 1)\n",
        "values = portfolio.merge(pd.DataFrame({\"iteration\": iteration}), how=\"cross\")\n",
        "nVals = len(values)\n",
        "\n",
        "# Set forward time-to-maturity\n",
        "values[\"fwd_ttm\"] = [\n",
        "    (values[\"ExpirationDate\"][i] - current_dt - timedelta(days=fwdT)).days / 365\n",
        "    if values[\"Type\"][i] == \"Option\" else None\n",
        "    for i in range(nVals)\n",
        "]\n",
        "\n",
        "# Calculate simulated values and P&L\n",
        "simulatedValue = []\n",
        "currentValue = []\n",
        "pnl = []\n",
        "\n",
        "for i in range(nVals):\n",
        "    simprice = simPrices[values[\"iteration\"].iloc[i] - 1]\n",
        "    current_val = values[\"Holding\"].iloc[i] * values[\"CurrentPrice\"].iloc[i]\n",
        "    currentValue.append(current_val)\n",
        "\n",
        "    if values[\"Type\"].iloc[i] == \"Option\":\n",
        "        sim_val = values[\"Holding\"].iloc[i] * gbsm(\n",
        "            values[\"OptionType\"].iloc[i] == \"Call\",\n",
        "            simprice, values[\"Strike\"].iloc[i], values[\"fwd_ttm\"].iloc[i],\n",
        "            rf, rf - dy, values[\"ImpVol\"].iloc[i]\n",
        "        )\n",
        "    elif values[\"Type\"].iloc[i] == \"Stock\":\n",
        "        sim_val = values[\"Holding\"].iloc[i] * simprice\n",
        "    else:\n",
        "        sim_val = 0\n",
        "\n",
        "    simulatedValue.append(sim_val)\n",
        "    pnl.append(sim_val - current_val)\n",
        "\n",
        "values[\"simulatedValue\"] = simulatedValue\n",
        "values[\"pnl\"] = pnl\n",
        "values[\"currentValue\"] = currentValue\n",
        "\n",
        "# Calculate Risk Metrics (Mean, VaR, ES)\n",
        "portfolio_agg = values.groupby(\"Portfolio\")[[\"simulatedValue\", \"currentValue\"]].agg(list).reset_index()\n",
        "portfolio_metrics = []\n",
        "\n",
        "for idx, row in portfolio_agg.iterrows():\n",
        "    simulated_values = np.array(row[\"simulatedValue\"])\n",
        "    current_value = np.sum(row[\"currentValue\"])\n",
        "\n",
        "    # Mean value\n",
        "    mean_value = np.mean(simulated_values)\n",
        "\n",
        "    # VaR (5th percentile of losses)\n",
        "    losses = current_value - simulated_values\n",
        "    var_95 = np.percentile(losses, 5)\n",
        "\n",
        "    # Expected Shortfall (average loss beyond VaR)\n",
        "    es_95 = losses[losses >= var_95].mean()\n",
        "\n",
        "    # Append results\n",
        "    portfolio_metrics.append({\n",
        "        \"Portfolio\": row[\"Portfolio\"],\n",
        "        \"Current Value ($)\": current_value,\n",
        "        \"Mean Simulated Value ($)\": mean_value,\n",
        "        \"VaR 95% ($ Loss)\": var_95,\n",
        "        \"ES 95% ($ Loss)\": es_95\n",
        "    })\n",
        "\n",
        "# Convert to DataFrame for presentation\n",
        "portfolio_metrics_df = pd.DataFrame(portfolio_metrics)\n",
        "\n",
        "# Present results\n",
        "print(portfolio_metrics_df)\n"
      ],
      "metadata": {
        "colab": {
          "base_uri": "https://localhost:8080/"
        },
        "id": "x2LIOwfpl27T",
        "outputId": "6618e0fa-ece1-497a-fcac-3ea88883d446"
      },
      "execution_count": 66,
      "outputs": [
        {
          "output_type": "stream",
          "name": "stdout",
          "text": [
            "Warning: Could not find implied volatility for option with parameters: option_type=Call, S=165, K=150.0, T=0.13424657534246576, r=0.05, q=0.02, current_price=6.8\n",
            "Warning: Could not find implied volatility for option with parameters: option_type=Call, S=165, K=150.0, T=0.13424657534246576, r=0.05, q=0.02, current_price=6.8\n",
            "Warning: Could not find implied volatility for option with parameters: option_type=Call, S=165, K=150.0, T=0.13424657534246576, r=0.05, q=0.02, current_price=6.8\n",
            "Warning: Could not find implied volatility for option with parameters: option_type=Call, S=165, K=160.0, T=0.13424657534246576, r=0.05, q=0.02, current_price=2.21\n",
            "Warning: Could not find implied volatility for option with parameters: option_type=Call, S=165, K=150.0, T=0.13424657534246576, r=0.05, q=0.02, current_price=6.8\n",
            "Warning: Could not find implied volatility for option with parameters: option_type=Call, S=165, K=155.0, T=0.13424657534246576, r=0.05, q=0.02, current_price=4.05\n",
            "      Portfolio  Current Value ($)  Mean Simulated Value ($)  \\\n",
            "0         Call             68000.0                       NaN   \n",
            "1    CallSpread            45900.0                       NaN   \n",
            "2   CoveredCall          1469800.0                       NaN   \n",
            "3  ProtectedPut          1540400.0                 83.861954   \n",
            "4          Put             48500.0                  4.371051   \n",
            "5     PutSpread            30100.0                  1.394586   \n",
            "6         Stock          1510300.0                165.063209   \n",
            "7      Straddle           116500.0                       NaN   \n",
            "8       SynLong            19500.0                       NaN   \n",
            "\n",
            "   VaR 95% ($ Loss)  ES 95% ($ Loss)  \n",
            "0               NaN              NaN  \n",
            "1               NaN              NaN  \n",
            "2               NaN              NaN  \n",
            "3      1.540225e+06     1.540321e+06  \n",
            "4      4.849190e+04     4.849590e+04  \n",
            "5      3.009294e+04     3.009898e+04  \n",
            "6      1.510122e+06     1.510136e+06  \n",
            "7               NaN              NaN  \n",
            "8               NaN              NaN  \n"
          ]
        },
        {
          "output_type": "stream",
          "name": "stderr",
          "text": [
            "<ipython-input-66-1eb79d08de7e>:140: RuntimeWarning: Mean of empty slice.\n",
            "  es_95 = losses[losses >= var_95].mean()\n",
            "/usr/local/lib/python3.10/dist-packages/numpy/core/_methods.py:129: RuntimeWarning: invalid value encountered in scalar divide\n",
            "  ret = ret.dtype.type(ret / rcount)\n"
          ]
        }
      ]
    },
    {
      "cell_type": "markdown",
      "source": [
        "## problem3"
      ],
      "metadata": {
        "id": "pTTRzQsaHzUo"
      }
    },
    {
      "cell_type": "code",
      "source": [
        "import numpy as np\n",
        "import pandas as pd\n",
        "from datetime import datetime\n",
        "from sklearn.linear_model import LinearRegression\n",
        "from scipy.optimize import minimize\n",
        "\n",
        "# Step 1: Import Data\n",
        "momentum_factor = pd.read_csv('F-F_Momentum_Factor_daily.CSV', skipfooter=1)\n",
        "fama_french_factors = pd.read_csv('F-F_Research_Data_Factors_daily.CSV', skipfooter=1)\n",
        "stock_prices = pd.read_csv('DailyPrices.csv')\n",
        "\n",
        "# Step 2: Data Preprocessing\n",
        "# Convert date columns to datetime format\n",
        "momentum_factor['Date'] = pd.to_datetime(momentum_factor['Date'], format='%Y%m%d')\n",
        "fama_french_factors['Date'] = pd.to_datetime(fama_french_factors['Date'], format='%Y%m%d')\n",
        "stock_prices['Date'] = pd.to_datetime(stock_prices['Date'])\n",
        "\n"
      ],
      "metadata": {
        "colab": {
          "base_uri": "https://localhost:8080/"
        },
        "id": "xhokBD5QaMP8",
        "outputId": "8029288b-7625-4db2-d233-e0b51cebfe89"
      },
      "execution_count": 40,
      "outputs": [
        {
          "output_type": "stream",
          "name": "stderr",
          "text": [
            "<ipython-input-40-6c3689d0e210>:8: ParserWarning: Falling back to the 'python' engine because the 'c' engine does not support skipfooter; you can avoid this warning by specifying engine='python'.\n",
            "  momentum_factor = pd.read_csv('F-F_Momentum_Factor_daily.CSV', skipfooter=1)\n",
            "<ipython-input-40-6c3689d0e210>:9: ParserWarning: Falling back to the 'python' engine because the 'c' engine does not support skipfooter; you can avoid this warning by specifying engine='python'.\n",
            "  fama_french_factors = pd.read_csv('F-F_Research_Data_Factors_daily.CSV', skipfooter=1)\n"
          ]
        }
      ]
    },
    {
      "cell_type": "code",
      "source": [
        "print(momentum_factor.columns)"
      ],
      "metadata": {
        "colab": {
          "base_uri": "https://localhost:8080/"
        },
        "id": "cO9HlaM2bRnO",
        "outputId": "44132b68-e9c3-475b-f04d-ba4638db55da"
      },
      "execution_count": 41,
      "outputs": [
        {
          "output_type": "stream",
          "name": "stdout",
          "text": [
            "Index(['Date', 'Mom   '], dtype='object')\n"
          ]
        }
      ]
    },
    {
      "cell_type": "code",
      "source": [
        "# Convert factor values from percentages to decimals\n",
        "momentum_factor['Mom'] = momentum_factor['Mom   '] / 100\n",
        "fama_french_factors[['Mkt-RF', 'SMB', 'HML', 'RF']] = fama_french_factors[['Mkt-RF', 'SMB', 'HML', 'RF']] / 100\n",
        "\n",
        "# Merge Fama-French and momentum factors on the date\n",
        "factors = pd.merge(fama_french_factors, momentum_factor, on='Date', how='inner')\n",
        "\n",
        "# Filter data for the past 10 years\n",
        "end_date = stock_prices['Date'].max()  # Latest date in stock prices\n",
        "start_date = end_date - pd.DateOffset(years=10)  # 10 years prior\n",
        "factors = factors[(factors['Date'] >= start_date) & (factors['Date'] <= end_date)]\n",
        "stock_prices = stock_prices[(stock_prices['Date'] >= start_date) & (stock_prices['Date'] <= end_date)]\n",
        "\n",
        "# Set 'Date' as the index for stock prices and calculate daily log returns\n",
        "stock_prices.set_index('Date', inplace=True)\n",
        "returns = stock_prices.pct_change().dropna()  # Percentage change to get daily returns\n",
        "\n",
        "# Align daily stock returns with factor data by merging on dates\n",
        "data = pd.merge(returns, factors, left_index=True, right_on='Date')\n"
      ],
      "metadata": {
        "id": "593itMsIbOju"
      },
      "execution_count": 42,
      "outputs": []
    },
    {
      "cell_type": "code",
      "source": [
        "print(stock_prices.head())"
      ],
      "metadata": {
        "colab": {
          "base_uri": "https://localhost:8080/"
        },
        "id": "ziDUfZdQeOhF",
        "outputId": "3819e8f8-67db-4195-aeca-320a64ac0e14"
      },
      "execution_count": 50,
      "outputs": [
        {
          "output_type": "stream",
          "name": "stdout",
          "text": [
            "        Date         SPY        AAPL        MSFT        AMZN        TSLA  \\\n",
            "0 2023-09-05  443.042969  188.734238  331.065002  137.270004  256.489990   \n",
            "1 2023-09-06  440.064606  181.978806  330.400024  135.360001  251.919998   \n",
            "2 2023-09-07  438.713501  176.656036  327.452148  137.850006  251.490005   \n",
            "3 2023-09-08  439.374268  177.272873  331.779633  138.229996  248.500000   \n",
            "4 2023-09-11  442.263885  178.446869  335.422302  143.100006  273.579987   \n",
            "\n",
            "        GOOGL        GOOG        META       NVDA  ...         PNC       MDLZ  \\\n",
            "0  135.434647  136.375107  299.534485  48.529320  ...  115.410866  67.877701   \n",
            "1  134.127884  135.038361  298.556488  47.046768  ...  113.370651  68.004555   \n",
            "2  134.925903  135.866348  298.057526  46.227013  ...  110.889824  68.307068   \n",
            "3  136.043137  136.863876  297.279114  45.558216  ...  112.000938  68.131409   \n",
            "4  136.581802  137.402573  306.929291  45.164337  ...  113.044975  69.643929   \n",
            "\n",
            "          MO         ADI       GILD         LMT         SYK         GM  \\\n",
            "0  40.327404  178.426926  71.458801  433.463379  283.403229  32.917908   \n",
            "1  39.815193  179.055954  70.584099  412.773102  286.184906  32.462914   \n",
            "2  39.988983  175.399750  70.298882  414.720398  286.105713  32.215633   \n",
            "3  40.318260  174.426727  72.257439  411.945465  286.620453  32.591499   \n",
            "4  40.665829  174.603638  73.246216  409.579498  296.697784  32.265091   \n",
            "\n",
            "         TFC        TJX  \n",
            "0  28.738337  90.317558  \n",
            "1  28.058586  89.469780  \n",
            "2  27.633739  90.149963  \n",
            "3  28.115231  90.149963  \n",
            "4  28.426785  90.278130  \n",
            "\n",
            "[5 rows x 101 columns]\n"
          ]
        }
      ]
    },
    {
      "cell_type": "code",
      "source": [
        "# Step 3: Select Stocks\n",
        "# List of selected stocks based on the table\n",
        "selected_stocks = [\n",
        "    \"AAPL\", \"META\", \"UNH\", \"MA\", \"MSFT\", \"NVDA\", \"HD\", \"PFE\",\n",
        "    \"AMZN\", \"BRK-B\", \"PG\", \"XOM\", \"TSLA\", \"JPM\", \"V\", \"DIS\",\n",
        "    \"GOOGL\", \"JNJ\", \"BAC\", \"CSCO\"\n",
        "]\n",
        "\n",
        "# Reset the index to access the 'Date' column\n",
        "stock_prices = stock_prices.reset_index()\n",
        "\n",
        "# Filter stock prices to include only the selected stocks\n",
        "filtered_stock_prices = stock_prices[['Date'] + selected_stocks].set_index('Date')\n",
        "\n",
        "# Recalculate daily log returns for the filtered stocks\n",
        "filtered_returns = filtered_stock_prices.pct_change().dropna()\n",
        "\n",
        "# Align daily returns with factor data by merging on dates\n",
        "filtered_data = pd.merge(filtered_returns, factors, left_index=True, right_on='Date')"
      ],
      "metadata": {
        "id": "vxR4aNbTd_IB"
      },
      "execution_count": 44,
      "outputs": []
    },
    {
      "cell_type": "code",
      "source": [
        "# Step 4: Fit the 4-Factor Model\n",
        "# Extract risk-free rate and factor columns for regression\n",
        "risk_free = filtered_data['RF'].values\n",
        "X = filtered_data[['Mkt-RF', 'SMB', 'HML', 'Mom']].values\n",
        "\n",
        "# Initialize dictionaries to store regression coefficients (betas) and expected returns\n",
        "betas = {}\n",
        "expected_returns = {}\n",
        "\n",
        "for stock in filtered_returns.columns:\n",
        "    # Dependent variable: stock excess returns (daily return - risk-free rate)\n",
        "    y = filtered_data[stock].values - risk_free\n",
        "\n",
        "    # Fit the 4-factor model using linear regression\n",
        "    model = LinearRegression().fit(X, y)\n",
        "    betas[stock] = model.coef_  # Store factor loadings (betas)\n",
        "\n",
        "    # Compute expected return using the mean of the factors\n",
        "    factor_means = factors[['Mkt-RF', 'SMB', 'HML', 'Mom']].mean().values\n",
        "    expected_returns[stock] = risk_free.mean() + np.dot(model.coef_, factor_means)\n",
        "\n",
        "# Step 5: Compute the Annualized Covariance Matrix\n",
        "# Daily covariance matrix of stock returns\n",
        "daily_cov = filtered_returns.cov()\n",
        "\n",
        "# Annualize the covariance matrix (252 trading days per year)\n",
        "annual_cov = daily_cov * 252"
      ],
      "metadata": {
        "id": "PteQfWMwemXO"
      },
      "execution_count": 45,
      "outputs": []
    },
    {
      "cell_type": "code",
      "source": [
        "print(annual_cov)"
      ],
      "metadata": {
        "id": "mR-WjfuggXem",
        "outputId": "3283c665-a12b-493f-ac39-ac9e268d931c",
        "colab": {
          "base_uri": "https://localhost:8080/"
        }
      },
      "execution_count": 51,
      "outputs": [
        {
          "output_type": "stream",
          "name": "stdout",
          "text": [
            "           AAPL      META       UNH        MA      MSFT      NVDA        HD  \\\n",
            "AAPL   0.050501  0.020870 -0.001577  0.010380  0.021561  0.033939  0.010867   \n",
            "META   0.020870  0.136272 -0.011660  0.015539  0.041722  0.077580  0.010079   \n",
            "UNH   -0.001577 -0.011660  0.049432  0.005066 -0.001927 -0.016474  0.006551   \n",
            "MA     0.010380  0.015539  0.005066  0.027007  0.012275  0.021657  0.011621   \n",
            "MSFT   0.021561  0.041722 -0.001927  0.012275  0.039604  0.045418  0.011498   \n",
            "NVDA   0.033939  0.077580 -0.016474  0.021657  0.045418  0.253770  0.023843   \n",
            "HD     0.010867  0.010079  0.006551  0.011621  0.011498  0.023843  0.042762   \n",
            "PFE    0.002864  0.000547  0.010636  0.003087  0.005221 -0.016984  0.005594   \n",
            "AMZN   0.024202  0.064354 -0.006390  0.015380  0.035189  0.067779  0.016908   \n",
            "BRK-B  0.006499  0.008382  0.006006  0.010321  0.006653  0.003171  0.010077   \n",
            "PG    -0.000199 -0.000426  0.007212  0.004023  0.002121 -0.009521  0.003260   \n",
            "XOM   -0.002407 -0.005812  0.001574  0.004131 -0.005784 -0.017253  0.005945   \n",
            "TSLA   0.046972  0.033953  0.001457  0.021594  0.029237  0.071756  0.028368   \n",
            "JPM    0.001670  0.006064  0.004938  0.008724  0.004695  0.005717  0.013261   \n",
            "V      0.010306  0.014285  0.003748  0.019691  0.012743  0.018001  0.010632   \n",
            "DIS    0.003784  0.010023  0.000456  0.007901  0.008303  0.015492  0.012559   \n",
            "GOOGL  0.025260  0.043208 -0.004703  0.011537  0.029757  0.051591  0.007758   \n",
            "JNJ    0.000410 -0.005947  0.008443  0.004104 -0.000898 -0.020411  0.006870   \n",
            "BAC    0.005001  0.005183  0.005151  0.006302  0.004584 -0.000161  0.022778   \n",
            "CSCO   0.008293  0.007240  0.005028  0.009910  0.008667  0.010232  0.013129   \n",
            "\n",
            "            PFE      AMZN     BRK-B        PG       XOM      TSLA       JPM  \\\n",
            "AAPL   0.002864  0.024202  0.006499 -0.000199 -0.002407  0.046972  0.001670   \n",
            "META   0.000547  0.064354  0.008382 -0.000426 -0.005812  0.033953  0.006064   \n",
            "UNH    0.010636 -0.006390  0.006006  0.007212  0.001574  0.001457  0.004938   \n",
            "MA     0.003087  0.015380  0.010321  0.004023  0.004131  0.021594  0.008724   \n",
            "MSFT   0.005221  0.035189  0.006653  0.002121 -0.005784  0.029237  0.004695   \n",
            "NVDA  -0.016984  0.067779  0.003171 -0.009521 -0.017253  0.071756  0.005717   \n",
            "HD     0.005594  0.016908  0.010077  0.003260  0.005945  0.028368  0.013261   \n",
            "PFE    0.062464  0.002466  0.010833  0.002163  0.003940  0.002940  0.010246   \n",
            "AMZN   0.002466  0.081874  0.008978 -0.001785 -0.005728  0.046419  0.008206   \n",
            "BRK-B  0.010833  0.008978  0.016801  0.004501  0.008345  0.009049  0.013116   \n",
            "PG     0.002163 -0.001785  0.004501  0.022672  0.002867 -0.003999  0.000597   \n",
            "XOM    0.003940 -0.005728  0.008345  0.002867  0.041071 -0.001924  0.011345   \n",
            "TSLA   0.002940  0.046419  0.009049 -0.003999 -0.001924  0.293876  0.020562   \n",
            "JPM    0.010246  0.008206  0.013116  0.000597  0.011345  0.020562  0.033249   \n",
            "V      0.004419  0.013531  0.009401  0.004643  0.002715  0.021799  0.008395   \n",
            "DIS    0.008145  0.013054  0.008012 -0.000892  0.009776  0.026769  0.011302   \n",
            "GOOGL  0.003924  0.045175  0.008250 -0.000272 -0.004480  0.031925  0.006162   \n",
            "JNJ    0.016889 -0.002814  0.007518  0.005866  0.005893 -0.001402  0.007898   \n",
            "BAC    0.010263  0.008630  0.014265  0.002463  0.016620  0.028866  0.028629   \n",
            "CSCO   0.010953  0.018381  0.007840  0.002357  0.008121  0.017523  0.009708   \n",
            "\n",
            "              V       DIS     GOOGL       JNJ       BAC      CSCO  \n",
            "AAPL   0.010306  0.003784  0.025260  0.000410  0.005001  0.008293  \n",
            "META   0.014285  0.010023  0.043208 -0.005947  0.005183  0.007240  \n",
            "UNH    0.003748  0.000456 -0.004703  0.008443  0.005151  0.005028  \n",
            "MA     0.019691  0.007901  0.011537  0.004104  0.006302  0.009910  \n",
            "MSFT   0.012743  0.008303  0.029757 -0.000898  0.004584  0.008667  \n",
            "NVDA   0.018001  0.015492  0.051591 -0.020411 -0.000161  0.010232  \n",
            "HD     0.010632  0.012559  0.007758  0.006870  0.022778  0.013129  \n",
            "PFE    0.004419  0.008145  0.003924  0.016889  0.010263  0.010953  \n",
            "AMZN   0.013531  0.013054  0.045175 -0.002814  0.008630  0.018381  \n",
            "BRK-B  0.009401  0.008012  0.008250  0.007518  0.014265  0.007840  \n",
            "PG     0.004643 -0.000892 -0.000272  0.005866  0.002463  0.002357  \n",
            "XOM    0.002715  0.009776 -0.004480  0.005893  0.016620  0.008121  \n",
            "TSLA   0.021799  0.026769  0.031925 -0.001402  0.028866  0.017523  \n",
            "JPM    0.008395  0.011302  0.006162  0.007898  0.028629  0.009708  \n",
            "V      0.022884  0.005352  0.011023  0.004906  0.008003  0.009791  \n",
            "DIS    0.005352  0.071514  0.009315  0.001750  0.015920  0.010569  \n",
            "GOOGL  0.011023  0.009315  0.077409 -0.002217  0.006355  0.013982  \n",
            "JNJ    0.004906  0.001750 -0.002217  0.023668  0.010143  0.006289  \n",
            "BAC    0.008003  0.015920  0.006355  0.010143  0.056120  0.011909  \n",
            "CSCO   0.009791  0.010569  0.013982  0.006289  0.011909  0.040735  \n"
          ]
        }
      ]
    },
    {
      "cell_type": "code",
      "source": [
        "# Step 6: Portfolio Optimization to Maximize Sharpe Ratio\n",
        "# Convert expected returns dictionary to a vector\n",
        "expected_returns_vector = np.array([expected_returns[stock] for stock in filtered_returns.columns])\n",
        "\n",
        "# Define the Sharpe ratio function to maximize\n",
        "def sharpe_ratio(weights):\n",
        "    # Portfolio return\n",
        "    portfolio_return = np.dot(weights, expected_returns_vector)\n",
        "    # Portfolio volatility\n",
        "    portfolio_volatility = np.sqrt(np.dot(weights.T, np.dot(annual_cov, weights)))\n",
        "    # Negative Sharpe ratio for minimization\n",
        "    return -((portfolio_return - 0.05) / portfolio_volatility)\n",
        "\n",
        "# Constraints: weights must sum to 1, and no short-selling (weights >= 0)\n",
        "constraints = ({'type': 'eq', 'fun': lambda w: np.sum(w) - 1})\n",
        "bounds = [(0, 1) for _ in range(len(filtered_returns.columns))]\n",
        "\n",
        "# Initial guess for weights: equal allocation\n",
        "init_weights = np.ones(len(filtered_returns.columns)) / len(filtered_returns.columns)\n",
        "\n",
        "# Perform optimization to maximize Sharpe ratio\n",
        "result = minimize(sharpe_ratio, init_weights, bounds=bounds, constraints=constraints)\n",
        "\n",
        "# Extract optimal weights\n",
        "optimal_weights = result.x\n",
        "\n",
        "# Step 7: Output Results\n",
        "# Combine stock names with their weights, converted to percentages and rounded to two decimal places\n",
        "stock_weights = pd.DataFrame({\n",
        "    \"Stock\": filtered_returns.columns,\n",
        "    \"Weight (%)\": np.round(optimal_weights * 100, 2)\n",
        "})\n",
        "\n",
        "# Print results\n",
        "print(stock_weights.to_string(index=False))"
      ],
      "metadata": {
        "colab": {
          "base_uri": "https://localhost:8080/"
        },
        "id": "JxqgzxoKexEH",
        "outputId": "6c0559bd-7ad6-4504-e5aa-277bf43d6311"
      },
      "execution_count": 47,
      "outputs": [
        {
          "output_type": "stream",
          "name": "stdout",
          "text": [
            "Stock  Weight (%)\n",
            " AAPL         0.0\n",
            " META         0.0\n",
            "  UNH         0.0\n",
            "   MA         0.0\n",
            " MSFT         0.0\n",
            " NVDA         0.0\n",
            "   HD         0.0\n",
            "  PFE         0.0\n",
            " AMZN         0.0\n",
            "BRK-B         0.0\n",
            "   PG         0.0\n",
            "  XOM         0.0\n",
            " TSLA       100.0\n",
            "  JPM         0.0\n",
            "    V         0.0\n",
            "  DIS         0.0\n",
            "GOOGL         0.0\n",
            "  JNJ         0.0\n",
            "  BAC         0.0\n",
            " CSCO         0.0\n"
          ]
        }
      ]
    },
    {
      "cell_type": "markdown",
      "source": [
        "Modified version："
      ],
      "metadata": {
        "id": "sbR26ZpcpjsP"
      }
    },
    {
      "cell_type": "code",
      "source": [
        "# Print expected returns for inspection\n",
        "print(\"Expected Returns for Each Stock (Annualized):\")\n",
        "for stock, ret in expected_returns.items():\n",
        "    print(f\"{stock}: {ret:.6f}\")\n",
        "\n",
        "# Print the annualized covariance matrix\n",
        "print(\"\\nAnnualized Covariance Matrix:\")\n",
        "print(annual_cov)\n",
        "\n",
        "# Define Sharpe ratio with diversification penalty (optional)\n",
        "def sharpe_ratio(weights):\n",
        "    portfolio_return = np.dot(weights, expected_returns_vector)  # Portfolio return\n",
        "    portfolio_volatility = np.sqrt(np.dot(weights.T, np.dot(annual_cov, weights)))  # Portfolio risk\n",
        "    diversification_penalty = 0.001 * np.sum(weights**2)  # Regularization for diversification\n",
        "    return -((portfolio_return - 0.05) / portfolio_volatility - diversification_penalty)\n",
        "\n",
        "# Enforce bounds to prevent concentration (optional)\n",
        "bounds = [(0, 0.3) for _ in range(len(filtered_returns.columns))]  # Max 30% per stock\n",
        "\n",
        "# Optimize portfolio weights\n",
        "result = minimize(sharpe_ratio, init_weights, bounds=bounds, constraints=constraints)\n",
        "\n",
        "# Check optimization result\n",
        "if not result.success:\n",
        "    print(\"Optimization failed:\", result.message)\n",
        "else:\n",
        "    # Extract optimal weights\n",
        "    optimal_weights = result.x\n",
        "\n",
        "    # Output final weights\n",
        "    stock_weights = pd.DataFrame({\n",
        "        \"Stock\": filtered_returns.columns,\n",
        "        \"Weight (%)\": np.round(optimal_weights * 100, 2)\n",
        "    })\n",
        "    print(\"\\nOptimal Portfolio Weights:\")\n",
        "    print(stock_weights.to_string(index=False))\n"
      ],
      "metadata": {
        "colab": {
          "base_uri": "https://localhost:8080/"
        },
        "id": "vw7QIhtefOk5",
        "outputId": "3e90acf0-45f4-4ec0-df1e-1f795dc7496b"
      },
      "execution_count": 48,
      "outputs": [
        {
          "output_type": "stream",
          "name": "stdout",
          "text": [
            "Expected Returns for Each Stock (Annualized):\n",
            "AAPL: 0.000705\n",
            "META: 0.001032\n",
            "UNH: 0.000235\n",
            "MA: 0.000591\n",
            "MSFT: 0.000779\n",
            "NVDA: 0.001424\n",
            "HD: 0.000597\n",
            "PFE: 0.000334\n",
            "AMZN: 0.000963\n",
            "BRK-B: 0.000483\n",
            "PG: 0.000342\n",
            "XOM: 0.000311\n",
            "TSLA: 0.001256\n",
            "JPM: 0.000525\n",
            "V: 0.000568\n",
            "DIS: 0.000513\n",
            "GOOGL: 0.000861\n",
            "JNJ: 0.000295\n",
            "BAC: 0.000620\n",
            "CSCO: 0.000535\n",
            "\n",
            "Annualized Covariance Matrix:\n",
            "           AAPL      META       UNH        MA      MSFT      NVDA        HD  \\\n",
            "AAPL   0.050501  0.020870 -0.001577  0.010380  0.021561  0.033939  0.010867   \n",
            "META   0.020870  0.136272 -0.011660  0.015539  0.041722  0.077580  0.010079   \n",
            "UNH   -0.001577 -0.011660  0.049432  0.005066 -0.001927 -0.016474  0.006551   \n",
            "MA     0.010380  0.015539  0.005066  0.027007  0.012275  0.021657  0.011621   \n",
            "MSFT   0.021561  0.041722 -0.001927  0.012275  0.039604  0.045418  0.011498   \n",
            "NVDA   0.033939  0.077580 -0.016474  0.021657  0.045418  0.253770  0.023843   \n",
            "HD     0.010867  0.010079  0.006551  0.011621  0.011498  0.023843  0.042762   \n",
            "PFE    0.002864  0.000547  0.010636  0.003087  0.005221 -0.016984  0.005594   \n",
            "AMZN   0.024202  0.064354 -0.006390  0.015380  0.035189  0.067779  0.016908   \n",
            "BRK-B  0.006499  0.008382  0.006006  0.010321  0.006653  0.003171  0.010077   \n",
            "PG    -0.000199 -0.000426  0.007212  0.004023  0.002121 -0.009521  0.003260   \n",
            "XOM   -0.002407 -0.005812  0.001574  0.004131 -0.005784 -0.017253  0.005945   \n",
            "TSLA   0.046972  0.033953  0.001457  0.021594  0.029237  0.071756  0.028368   \n",
            "JPM    0.001670  0.006064  0.004938  0.008724  0.004695  0.005717  0.013261   \n",
            "V      0.010306  0.014285  0.003748  0.019691  0.012743  0.018001  0.010632   \n",
            "DIS    0.003784  0.010023  0.000456  0.007901  0.008303  0.015492  0.012559   \n",
            "GOOGL  0.025260  0.043208 -0.004703  0.011537  0.029757  0.051591  0.007758   \n",
            "JNJ    0.000410 -0.005947  0.008443  0.004104 -0.000898 -0.020411  0.006870   \n",
            "BAC    0.005001  0.005183  0.005151  0.006302  0.004584 -0.000161  0.022778   \n",
            "CSCO   0.008293  0.007240  0.005028  0.009910  0.008667  0.010232  0.013129   \n",
            "\n",
            "            PFE      AMZN     BRK-B        PG       XOM      TSLA       JPM  \\\n",
            "AAPL   0.002864  0.024202  0.006499 -0.000199 -0.002407  0.046972  0.001670   \n",
            "META   0.000547  0.064354  0.008382 -0.000426 -0.005812  0.033953  0.006064   \n",
            "UNH    0.010636 -0.006390  0.006006  0.007212  0.001574  0.001457  0.004938   \n",
            "MA     0.003087  0.015380  0.010321  0.004023  0.004131  0.021594  0.008724   \n",
            "MSFT   0.005221  0.035189  0.006653  0.002121 -0.005784  0.029237  0.004695   \n",
            "NVDA  -0.016984  0.067779  0.003171 -0.009521 -0.017253  0.071756  0.005717   \n",
            "HD     0.005594  0.016908  0.010077  0.003260  0.005945  0.028368  0.013261   \n",
            "PFE    0.062464  0.002466  0.010833  0.002163  0.003940  0.002940  0.010246   \n",
            "AMZN   0.002466  0.081874  0.008978 -0.001785 -0.005728  0.046419  0.008206   \n",
            "BRK-B  0.010833  0.008978  0.016801  0.004501  0.008345  0.009049  0.013116   \n",
            "PG     0.002163 -0.001785  0.004501  0.022672  0.002867 -0.003999  0.000597   \n",
            "XOM    0.003940 -0.005728  0.008345  0.002867  0.041071 -0.001924  0.011345   \n",
            "TSLA   0.002940  0.046419  0.009049 -0.003999 -0.001924  0.293876  0.020562   \n",
            "JPM    0.010246  0.008206  0.013116  0.000597  0.011345  0.020562  0.033249   \n",
            "V      0.004419  0.013531  0.009401  0.004643  0.002715  0.021799  0.008395   \n",
            "DIS    0.008145  0.013054  0.008012 -0.000892  0.009776  0.026769  0.011302   \n",
            "GOOGL  0.003924  0.045175  0.008250 -0.000272 -0.004480  0.031925  0.006162   \n",
            "JNJ    0.016889 -0.002814  0.007518  0.005866  0.005893 -0.001402  0.007898   \n",
            "BAC    0.010263  0.008630  0.014265  0.002463  0.016620  0.028866  0.028629   \n",
            "CSCO   0.010953  0.018381  0.007840  0.002357  0.008121  0.017523  0.009708   \n",
            "\n",
            "              V       DIS     GOOGL       JNJ       BAC      CSCO  \n",
            "AAPL   0.010306  0.003784  0.025260  0.000410  0.005001  0.008293  \n",
            "META   0.014285  0.010023  0.043208 -0.005947  0.005183  0.007240  \n",
            "UNH    0.003748  0.000456 -0.004703  0.008443  0.005151  0.005028  \n",
            "MA     0.019691  0.007901  0.011537  0.004104  0.006302  0.009910  \n",
            "MSFT   0.012743  0.008303  0.029757 -0.000898  0.004584  0.008667  \n",
            "NVDA   0.018001  0.015492  0.051591 -0.020411 -0.000161  0.010232  \n",
            "HD     0.010632  0.012559  0.007758  0.006870  0.022778  0.013129  \n",
            "PFE    0.004419  0.008145  0.003924  0.016889  0.010263  0.010953  \n",
            "AMZN   0.013531  0.013054  0.045175 -0.002814  0.008630  0.018381  \n",
            "BRK-B  0.009401  0.008012  0.008250  0.007518  0.014265  0.007840  \n",
            "PG     0.004643 -0.000892 -0.000272  0.005866  0.002463  0.002357  \n",
            "XOM    0.002715  0.009776 -0.004480  0.005893  0.016620  0.008121  \n",
            "TSLA   0.021799  0.026769  0.031925 -0.001402  0.028866  0.017523  \n",
            "JPM    0.008395  0.011302  0.006162  0.007898  0.028629  0.009708  \n",
            "V      0.022884  0.005352  0.011023  0.004906  0.008003  0.009791  \n",
            "DIS    0.005352  0.071514  0.009315  0.001750  0.015920  0.010569  \n",
            "GOOGL  0.011023  0.009315  0.077409 -0.002217  0.006355  0.013982  \n",
            "JNJ    0.004906  0.001750 -0.002217  0.023668  0.010143  0.006289  \n",
            "BAC    0.008003  0.015920  0.006355  0.010143  0.056120  0.011909  \n",
            "CSCO   0.009791  0.010569  0.013982  0.006289  0.011909  0.040735  \n",
            "\n",
            "Optimal Portfolio Weights:\n",
            "Stock  Weight (%)\n",
            " AAPL         0.0\n",
            " META        30.0\n",
            "  UNH         0.0\n",
            "   MA         0.0\n",
            " MSFT         0.0\n",
            " NVDA        30.0\n",
            "   HD         0.0\n",
            "  PFE         0.0\n",
            " AMZN        10.0\n",
            "BRK-B         0.0\n",
            "   PG         0.0\n",
            "  XOM         0.0\n",
            " TSLA        30.0\n",
            "  JPM         0.0\n",
            "    V         0.0\n",
            "  DIS         0.0\n",
            "GOOGL         0.0\n",
            "  JNJ         0.0\n",
            "  BAC         0.0\n",
            " CSCO         0.0\n"
          ]
        }
      ]
    }
  ]
}